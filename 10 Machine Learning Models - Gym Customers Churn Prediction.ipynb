{
 "cells": [
  {
   "cell_type": "markdown",
   "metadata": {},
   "source": [
    "<h1 style=\"color:green; margin-bottom:15px;font-size:25px\">Machine Learning Models - Gym Customers Churn Prediction</h1>"
   ]
  },
  {
   "cell_type": "markdown",
   "metadata": {},
   "source": [
    "# Project Description\n",
    "\n",
    "Fitness centers network develops a strategy for interacting with clients.\n",
    "\n",
    "For a fitness center, a client can be considered churned if he/she has never visited the gym in the last month.\n",
    "To combat churn, customer service department has digitized customer profiles. Your task is to analyze and prepare an action plan to increase customer retention.\n",
    "\n",
    "- build a model predicting the probability of churn (at the level of the next month) for each client;\n",
    "- describe typical clients;\n",
    "- analyze the features that have the most affect on churn rate;\n",
    "- formulate conclusions and give recommendations to increase customer retention."
   ]
  },
  {
   "cell_type": "markdown",
   "metadata": {},
   "source": [
    "# Contents\n",
    "\n",
    "<ol>\n",
    "<li>Libraries Import</li> \n",
    "<li>Data Import</li>\n",
    "<li>Data Description</li>\n",
    "<li>Data Analysis</li>\n",
    "<li>Churn Prediction Model</li>\n",
    "<li>Customers Clusterization</li>\n",
    "<li>Conclusion and Recomendations</li>  \n",
    "</ol>"
   ]
  },
  {
   "cell_type": "markdown",
   "metadata": {},
   "source": [
    "## 1. Libraries Import"
   ]
  },
  {
   "cell_type": "code",
   "execution_count": 1,
   "metadata": {},
   "outputs": [],
   "source": [
    "import pandas as pd\n",
    "import numpy as np\n",
    "import datetime as dt\n",
    "\n",
    "import warnings\n",
    "warnings.filterwarnings('ignore')\n",
    "\n",
    "import math as mth\n",
    "from scipy import stats as st\n",
    "import statistics\n",
    "from statistics import mean\n",
    "\n",
    "import seaborn as sns\n",
    "import matplotlib.pyplot as plt\n",
    "\n",
    "from sklearn.preprocessing import StandardScaler\n",
    "from sklearn.cluster import KMeans\n",
    "from scipy.cluster.hierarchy import dendrogram, linkage\n",
    "\n",
    "from sklearn.model_selection import train_test_split\n",
    "from sklearn.linear_model import LogisticRegression\n",
    "from sklearn.ensemble import RandomForestClassifier\n",
    "\n",
    "import sklearn.metrics as metrics\n",
    "from sklearn.metrics import accuracy_score, precision_score, recall_score"
   ]
  },
  {
   "cell_type": "markdown",
   "metadata": {},
   "source": [
    "## 2. Data Import"
   ]
  },
  {
   "cell_type": "code",
   "execution_count": 2,
   "metadata": {},
   "outputs": [
    {
     "data": {
      "text/html": [
       "<div>\n",
       "<style scoped>\n",
       "    .dataframe tbody tr th:only-of-type {\n",
       "        vertical-align: middle;\n",
       "    }\n",
       "\n",
       "    .dataframe tbody tr th {\n",
       "        vertical-align: top;\n",
       "    }\n",
       "\n",
       "    .dataframe thead th {\n",
       "        text-align: right;\n",
       "    }\n",
       "</style>\n",
       "<table border=\"1\" class=\"dataframe\">\n",
       "  <thead>\n",
       "    <tr style=\"text-align: right;\">\n",
       "      <th></th>\n",
       "      <th>gender</th>\n",
       "      <th>near_location</th>\n",
       "      <th>partner</th>\n",
       "      <th>promo_friends</th>\n",
       "      <th>phone</th>\n",
       "      <th>contract_period</th>\n",
       "      <th>group_visits</th>\n",
       "      <th>age</th>\n",
       "      <th>avg_additional_charges_total</th>\n",
       "      <th>month_to_end_contract</th>\n",
       "      <th>lifetime</th>\n",
       "      <th>avg_class_frequency_total</th>\n",
       "      <th>avg_class_frequency_current_month</th>\n",
       "      <th>churn</th>\n",
       "    </tr>\n",
       "  </thead>\n",
       "  <tbody>\n",
       "    <tr>\n",
       "      <th>0</th>\n",
       "      <td>1</td>\n",
       "      <td>1</td>\n",
       "      <td>1</td>\n",
       "      <td>1</td>\n",
       "      <td>0</td>\n",
       "      <td>6</td>\n",
       "      <td>1</td>\n",
       "      <td>29</td>\n",
       "      <td>14.227470</td>\n",
       "      <td>5.0</td>\n",
       "      <td>3</td>\n",
       "      <td>0.020398</td>\n",
       "      <td>0.000000</td>\n",
       "      <td>0</td>\n",
       "    </tr>\n",
       "    <tr>\n",
       "      <th>1</th>\n",
       "      <td>0</td>\n",
       "      <td>1</td>\n",
       "      <td>0</td>\n",
       "      <td>0</td>\n",
       "      <td>1</td>\n",
       "      <td>12</td>\n",
       "      <td>1</td>\n",
       "      <td>31</td>\n",
       "      <td>113.202938</td>\n",
       "      <td>12.0</td>\n",
       "      <td>7</td>\n",
       "      <td>1.922936</td>\n",
       "      <td>1.910244</td>\n",
       "      <td>0</td>\n",
       "    </tr>\n",
       "    <tr>\n",
       "      <th>2</th>\n",
       "      <td>0</td>\n",
       "      <td>1</td>\n",
       "      <td>1</td>\n",
       "      <td>0</td>\n",
       "      <td>1</td>\n",
       "      <td>1</td>\n",
       "      <td>0</td>\n",
       "      <td>28</td>\n",
       "      <td>129.448479</td>\n",
       "      <td>1.0</td>\n",
       "      <td>2</td>\n",
       "      <td>1.859098</td>\n",
       "      <td>1.736502</td>\n",
       "      <td>0</td>\n",
       "    </tr>\n",
       "    <tr>\n",
       "      <th>3</th>\n",
       "      <td>0</td>\n",
       "      <td>1</td>\n",
       "      <td>1</td>\n",
       "      <td>1</td>\n",
       "      <td>1</td>\n",
       "      <td>12</td>\n",
       "      <td>1</td>\n",
       "      <td>33</td>\n",
       "      <td>62.669863</td>\n",
       "      <td>12.0</td>\n",
       "      <td>2</td>\n",
       "      <td>3.205633</td>\n",
       "      <td>3.357215</td>\n",
       "      <td>0</td>\n",
       "    </tr>\n",
       "    <tr>\n",
       "      <th>4</th>\n",
       "      <td>1</td>\n",
       "      <td>1</td>\n",
       "      <td>1</td>\n",
       "      <td>1</td>\n",
       "      <td>1</td>\n",
       "      <td>1</td>\n",
       "      <td>0</td>\n",
       "      <td>26</td>\n",
       "      <td>198.362265</td>\n",
       "      <td>1.0</td>\n",
       "      <td>3</td>\n",
       "      <td>1.113884</td>\n",
       "      <td>1.120078</td>\n",
       "      <td>0</td>\n",
       "    </tr>\n",
       "    <tr>\n",
       "      <th>...</th>\n",
       "      <td>...</td>\n",
       "      <td>...</td>\n",
       "      <td>...</td>\n",
       "      <td>...</td>\n",
       "      <td>...</td>\n",
       "      <td>...</td>\n",
       "      <td>...</td>\n",
       "      <td>...</td>\n",
       "      <td>...</td>\n",
       "      <td>...</td>\n",
       "      <td>...</td>\n",
       "      <td>...</td>\n",
       "      <td>...</td>\n",
       "      <td>...</td>\n",
       "    </tr>\n",
       "    <tr>\n",
       "      <th>3995</th>\n",
       "      <td>1</td>\n",
       "      <td>1</td>\n",
       "      <td>1</td>\n",
       "      <td>0</td>\n",
       "      <td>1</td>\n",
       "      <td>12</td>\n",
       "      <td>0</td>\n",
       "      <td>33</td>\n",
       "      <td>2.406023</td>\n",
       "      <td>12.0</td>\n",
       "      <td>8</td>\n",
       "      <td>2.284497</td>\n",
       "      <td>2.349070</td>\n",
       "      <td>0</td>\n",
       "    </tr>\n",
       "    <tr>\n",
       "      <th>3996</th>\n",
       "      <td>0</td>\n",
       "      <td>1</td>\n",
       "      <td>0</td>\n",
       "      <td>0</td>\n",
       "      <td>1</td>\n",
       "      <td>1</td>\n",
       "      <td>1</td>\n",
       "      <td>29</td>\n",
       "      <td>68.883764</td>\n",
       "      <td>1.0</td>\n",
       "      <td>1</td>\n",
       "      <td>1.277168</td>\n",
       "      <td>0.292859</td>\n",
       "      <td>1</td>\n",
       "    </tr>\n",
       "    <tr>\n",
       "      <th>3997</th>\n",
       "      <td>1</td>\n",
       "      <td>1</td>\n",
       "      <td>1</td>\n",
       "      <td>1</td>\n",
       "      <td>1</td>\n",
       "      <td>12</td>\n",
       "      <td>0</td>\n",
       "      <td>28</td>\n",
       "      <td>78.250542</td>\n",
       "      <td>11.0</td>\n",
       "      <td>2</td>\n",
       "      <td>2.786146</td>\n",
       "      <td>2.831439</td>\n",
       "      <td>0</td>\n",
       "    </tr>\n",
       "    <tr>\n",
       "      <th>3998</th>\n",
       "      <td>0</td>\n",
       "      <td>1</td>\n",
       "      <td>1</td>\n",
       "      <td>1</td>\n",
       "      <td>1</td>\n",
       "      <td>6</td>\n",
       "      <td>0</td>\n",
       "      <td>32</td>\n",
       "      <td>61.912657</td>\n",
       "      <td>5.0</td>\n",
       "      <td>3</td>\n",
       "      <td>1.630108</td>\n",
       "      <td>1.596237</td>\n",
       "      <td>0</td>\n",
       "    </tr>\n",
       "    <tr>\n",
       "      <th>3999</th>\n",
       "      <td>1</td>\n",
       "      <td>0</td>\n",
       "      <td>1</td>\n",
       "      <td>0</td>\n",
       "      <td>0</td>\n",
       "      <td>12</td>\n",
       "      <td>1</td>\n",
       "      <td>30</td>\n",
       "      <td>178.861814</td>\n",
       "      <td>12.0</td>\n",
       "      <td>1</td>\n",
       "      <td>1.101832</td>\n",
       "      <td>1.035270</td>\n",
       "      <td>0</td>\n",
       "    </tr>\n",
       "  </tbody>\n",
       "</table>\n",
       "<p>4000 rows × 14 columns</p>\n",
       "</div>"
      ],
      "text/plain": [
       "      gender  near_location  partner  promo_friends  phone  contract_period  \\\n",
       "0          1              1        1              1      0                6   \n",
       "1          0              1        0              0      1               12   \n",
       "2          0              1        1              0      1                1   \n",
       "3          0              1        1              1      1               12   \n",
       "4          1              1        1              1      1                1   \n",
       "...      ...            ...      ...            ...    ...              ...   \n",
       "3995       1              1        1              0      1               12   \n",
       "3996       0              1        0              0      1                1   \n",
       "3997       1              1        1              1      1               12   \n",
       "3998       0              1        1              1      1                6   \n",
       "3999       1              0        1              0      0               12   \n",
       "\n",
       "      group_visits  age  avg_additional_charges_total  month_to_end_contract  \\\n",
       "0                1   29                     14.227470                    5.0   \n",
       "1                1   31                    113.202938                   12.0   \n",
       "2                0   28                    129.448479                    1.0   \n",
       "3                1   33                     62.669863                   12.0   \n",
       "4                0   26                    198.362265                    1.0   \n",
       "...            ...  ...                           ...                    ...   \n",
       "3995             0   33                      2.406023                   12.0   \n",
       "3996             1   29                     68.883764                    1.0   \n",
       "3997             0   28                     78.250542                   11.0   \n",
       "3998             0   32                     61.912657                    5.0   \n",
       "3999             1   30                    178.861814                   12.0   \n",
       "\n",
       "      lifetime  avg_class_frequency_total  avg_class_frequency_current_month  \\\n",
       "0            3                   0.020398                           0.000000   \n",
       "1            7                   1.922936                           1.910244   \n",
       "2            2                   1.859098                           1.736502   \n",
       "3            2                   3.205633                           3.357215   \n",
       "4            3                   1.113884                           1.120078   \n",
       "...        ...                        ...                                ...   \n",
       "3995         8                   2.284497                           2.349070   \n",
       "3996         1                   1.277168                           0.292859   \n",
       "3997         2                   2.786146                           2.831439   \n",
       "3998         3                   1.630108                           1.596237   \n",
       "3999         1                   1.101832                           1.035270   \n",
       "\n",
       "      churn  \n",
       "0         0  \n",
       "1         0  \n",
       "2         0  \n",
       "3         0  \n",
       "4         0  \n",
       "...     ...  \n",
       "3995      0  \n",
       "3996      1  \n",
       "3997      0  \n",
       "3998      0  \n",
       "3999      0  \n",
       "\n",
       "[4000 rows x 14 columns]"
      ]
     },
     "metadata": {},
     "output_type": "display_data"
    },
    {
     "name": "stdout",
     "output_type": "stream",
     "text": [
      "<class 'pandas.core.frame.DataFrame'>\n",
      "RangeIndex: 4000 entries, 0 to 3999\n",
      "Data columns (total 14 columns):\n",
      " #   Column                             Non-Null Count  Dtype  \n",
      "---  ------                             --------------  -----  \n",
      " 0   gender                             4000 non-null   int64  \n",
      " 1   near_location                      4000 non-null   int64  \n",
      " 2   partner                            4000 non-null   int64  \n",
      " 3   promo_friends                      4000 non-null   int64  \n",
      " 4   phone                              4000 non-null   int64  \n",
      " 5   contract_period                    4000 non-null   int64  \n",
      " 6   group_visits                       4000 non-null   int64  \n",
      " 7   age                                4000 non-null   int64  \n",
      " 8   avg_additional_charges_total       4000 non-null   float64\n",
      " 9   month_to_end_contract              4000 non-null   float64\n",
      " 10  lifetime                           4000 non-null   int64  \n",
      " 11  avg_class_frequency_total          4000 non-null   float64\n",
      " 12  avg_class_frequency_current_month  4000 non-null   float64\n",
      " 13  churn                              4000 non-null   int64  \n",
      "dtypes: float64(4), int64(10)\n",
      "memory usage: 437.6 KB\n"
     ]
    },
    {
     "data": {
      "text/plain": [
       "None"
      ]
     },
     "metadata": {},
     "output_type": "display_data"
    }
   ],
   "source": [
    "data=pd.read_csv('gym_churn.csv', sep=',')\n",
    "data.columns = data.columns.str.lower()\n",
    "display(data)\n",
    "display(data.info())"
   ]
  },
  {
   "cell_type": "markdown",
   "metadata": {},
   "source": [
    "## 3. Data Description"
   ]
  },
  {
   "cell_type": "markdown",
   "metadata": {},
   "source": [
    "The data set has 4000 rows and 14 columns and no gaps.\n",
    "\n",
    "\n",
    "**Continuous variables**\n",
    "- age;\n",
    "- lifetime — number of months passed since the first visit;\n",
    "- month_to_end_contract — number of months until the end of the contract;\n",
    "- avg_additional_charges_total - total revenue from other services: cafe, sports goods, spa;\n",
    "- avg_class_frequency_total - the average frequency of visits per week for the entire time since the first visit;\n",
    "- avg_class_frequency_current_month — average frequency of visits per week for the previous month;\n",
    "\n",
    "**Binary variables**\n",
    "- churn — churn fact in the current month - **target variable**\n",
    "- gender;\n",
    "- near_location - the fact of living or working nearby;\n",
    "- partner — an employee of the partner company;\n",
    "- promo_friends - used a promo code from a friend when paying for the first subscription;\n",
    "- phone — presence of a contact phone number;\n",
    "- group_visits — the fact of attending group classes;\n",
    "\n",
    "**Categorical variables**\n",
    "- contract_period — month, 3 months, 6 months, year;"
   ]
  },
  {
   "cell_type": "markdown",
   "metadata": {},
   "source": [
    "## 4.Data Analysis"
   ]
  },
  {
   "cell_type": "code",
   "execution_count": 3,
   "metadata": {},
   "outputs": [
    {
     "data": {
      "text/html": [
       "<div>\n",
       "<style scoped>\n",
       "    .dataframe tbody tr th:only-of-type {\n",
       "        vertical-align: middle;\n",
       "    }\n",
       "\n",
       "    .dataframe tbody tr th {\n",
       "        vertical-align: top;\n",
       "    }\n",
       "\n",
       "    .dataframe thead th {\n",
       "        text-align: right;\n",
       "    }\n",
       "</style>\n",
       "<table border=\"1\" class=\"dataframe\">\n",
       "  <thead>\n",
       "    <tr style=\"text-align: right;\">\n",
       "      <th></th>\n",
       "      <th>gender</th>\n",
       "      <th>near_location</th>\n",
       "      <th>partner</th>\n",
       "      <th>promo_friends</th>\n",
       "      <th>phone</th>\n",
       "      <th>contract_period</th>\n",
       "      <th>group_visits</th>\n",
       "      <th>age</th>\n",
       "      <th>avg_additional_charges_total</th>\n",
       "      <th>month_to_end_contract</th>\n",
       "      <th>lifetime</th>\n",
       "      <th>avg_class_frequency_total</th>\n",
       "      <th>avg_class_frequency_current_month</th>\n",
       "      <th>churn</th>\n",
       "    </tr>\n",
       "  </thead>\n",
       "  <tbody>\n",
       "    <tr>\n",
       "      <th>count</th>\n",
       "      <td>4000.000000</td>\n",
       "      <td>4000.000000</td>\n",
       "      <td>4000.000000</td>\n",
       "      <td>4000.000000</td>\n",
       "      <td>4000.000000</td>\n",
       "      <td>4000.000000</td>\n",
       "      <td>4000.000000</td>\n",
       "      <td>4000.000000</td>\n",
       "      <td>4000.000000</td>\n",
       "      <td>4000.000000</td>\n",
       "      <td>4000.000000</td>\n",
       "      <td>4000.000000</td>\n",
       "      <td>4000.000000</td>\n",
       "      <td>4000.000000</td>\n",
       "    </tr>\n",
       "    <tr>\n",
       "      <th>mean</th>\n",
       "      <td>0.510250</td>\n",
       "      <td>0.845250</td>\n",
       "      <td>0.486750</td>\n",
       "      <td>0.308500</td>\n",
       "      <td>0.903500</td>\n",
       "      <td>4.681250</td>\n",
       "      <td>0.412250</td>\n",
       "      <td>29.184250</td>\n",
       "      <td>146.943728</td>\n",
       "      <td>4.322750</td>\n",
       "      <td>3.724750</td>\n",
       "      <td>1.879020</td>\n",
       "      <td>1.767052</td>\n",
       "      <td>0.265250</td>\n",
       "    </tr>\n",
       "    <tr>\n",
       "      <th>std</th>\n",
       "      <td>0.499957</td>\n",
       "      <td>0.361711</td>\n",
       "      <td>0.499887</td>\n",
       "      <td>0.461932</td>\n",
       "      <td>0.295313</td>\n",
       "      <td>4.549706</td>\n",
       "      <td>0.492301</td>\n",
       "      <td>3.258367</td>\n",
       "      <td>96.355602</td>\n",
       "      <td>4.191297</td>\n",
       "      <td>3.749267</td>\n",
       "      <td>0.972245</td>\n",
       "      <td>1.052906</td>\n",
       "      <td>0.441521</td>\n",
       "    </tr>\n",
       "    <tr>\n",
       "      <th>min</th>\n",
       "      <td>0.000000</td>\n",
       "      <td>0.000000</td>\n",
       "      <td>0.000000</td>\n",
       "      <td>0.000000</td>\n",
       "      <td>0.000000</td>\n",
       "      <td>1.000000</td>\n",
       "      <td>0.000000</td>\n",
       "      <td>18.000000</td>\n",
       "      <td>0.148205</td>\n",
       "      <td>1.000000</td>\n",
       "      <td>0.000000</td>\n",
       "      <td>0.000000</td>\n",
       "      <td>0.000000</td>\n",
       "      <td>0.000000</td>\n",
       "    </tr>\n",
       "    <tr>\n",
       "      <th>25%</th>\n",
       "      <td>0.000000</td>\n",
       "      <td>1.000000</td>\n",
       "      <td>0.000000</td>\n",
       "      <td>0.000000</td>\n",
       "      <td>1.000000</td>\n",
       "      <td>1.000000</td>\n",
       "      <td>0.000000</td>\n",
       "      <td>27.000000</td>\n",
       "      <td>68.868830</td>\n",
       "      <td>1.000000</td>\n",
       "      <td>1.000000</td>\n",
       "      <td>1.180875</td>\n",
       "      <td>0.963003</td>\n",
       "      <td>0.000000</td>\n",
       "    </tr>\n",
       "    <tr>\n",
       "      <th>50%</th>\n",
       "      <td>1.000000</td>\n",
       "      <td>1.000000</td>\n",
       "      <td>0.000000</td>\n",
       "      <td>0.000000</td>\n",
       "      <td>1.000000</td>\n",
       "      <td>1.000000</td>\n",
       "      <td>0.000000</td>\n",
       "      <td>29.000000</td>\n",
       "      <td>136.220159</td>\n",
       "      <td>1.000000</td>\n",
       "      <td>3.000000</td>\n",
       "      <td>1.832768</td>\n",
       "      <td>1.719574</td>\n",
       "      <td>0.000000</td>\n",
       "    </tr>\n",
       "    <tr>\n",
       "      <th>75%</th>\n",
       "      <td>1.000000</td>\n",
       "      <td>1.000000</td>\n",
       "      <td>1.000000</td>\n",
       "      <td>1.000000</td>\n",
       "      <td>1.000000</td>\n",
       "      <td>6.000000</td>\n",
       "      <td>1.000000</td>\n",
       "      <td>31.000000</td>\n",
       "      <td>210.949625</td>\n",
       "      <td>6.000000</td>\n",
       "      <td>5.000000</td>\n",
       "      <td>2.536078</td>\n",
       "      <td>2.510336</td>\n",
       "      <td>1.000000</td>\n",
       "    </tr>\n",
       "    <tr>\n",
       "      <th>max</th>\n",
       "      <td>1.000000</td>\n",
       "      <td>1.000000</td>\n",
       "      <td>1.000000</td>\n",
       "      <td>1.000000</td>\n",
       "      <td>1.000000</td>\n",
       "      <td>12.000000</td>\n",
       "      <td>1.000000</td>\n",
       "      <td>41.000000</td>\n",
       "      <td>552.590740</td>\n",
       "      <td>12.000000</td>\n",
       "      <td>31.000000</td>\n",
       "      <td>6.023668</td>\n",
       "      <td>6.146783</td>\n",
       "      <td>1.000000</td>\n",
       "    </tr>\n",
       "  </tbody>\n",
       "</table>\n",
       "</div>"
      ],
      "text/plain": [
       "            gender  near_location      partner  promo_friends        phone  \\\n",
       "count  4000.000000    4000.000000  4000.000000    4000.000000  4000.000000   \n",
       "mean      0.510250       0.845250     0.486750       0.308500     0.903500   \n",
       "std       0.499957       0.361711     0.499887       0.461932     0.295313   \n",
       "min       0.000000       0.000000     0.000000       0.000000     0.000000   \n",
       "25%       0.000000       1.000000     0.000000       0.000000     1.000000   \n",
       "50%       1.000000       1.000000     0.000000       0.000000     1.000000   \n",
       "75%       1.000000       1.000000     1.000000       1.000000     1.000000   \n",
       "max       1.000000       1.000000     1.000000       1.000000     1.000000   \n",
       "\n",
       "       contract_period  group_visits          age  \\\n",
       "count      4000.000000   4000.000000  4000.000000   \n",
       "mean          4.681250      0.412250    29.184250   \n",
       "std           4.549706      0.492301     3.258367   \n",
       "min           1.000000      0.000000    18.000000   \n",
       "25%           1.000000      0.000000    27.000000   \n",
       "50%           1.000000      0.000000    29.000000   \n",
       "75%           6.000000      1.000000    31.000000   \n",
       "max          12.000000      1.000000    41.000000   \n",
       "\n",
       "       avg_additional_charges_total  month_to_end_contract     lifetime  \\\n",
       "count                   4000.000000            4000.000000  4000.000000   \n",
       "mean                     146.943728               4.322750     3.724750   \n",
       "std                       96.355602               4.191297     3.749267   \n",
       "min                        0.148205               1.000000     0.000000   \n",
       "25%                       68.868830               1.000000     1.000000   \n",
       "50%                      136.220159               1.000000     3.000000   \n",
       "75%                      210.949625               6.000000     5.000000   \n",
       "max                      552.590740              12.000000    31.000000   \n",
       "\n",
       "       avg_class_frequency_total  avg_class_frequency_current_month  \\\n",
       "count                4000.000000                        4000.000000   \n",
       "mean                    1.879020                           1.767052   \n",
       "std                     0.972245                           1.052906   \n",
       "min                     0.000000                           0.000000   \n",
       "25%                     1.180875                           0.963003   \n",
       "50%                     1.832768                           1.719574   \n",
       "75%                     2.536078                           2.510336   \n",
       "max                     6.023668                           6.146783   \n",
       "\n",
       "             churn  \n",
       "count  4000.000000  \n",
       "mean      0.265250  \n",
       "std       0.441521  \n",
       "min       0.000000  \n",
       "25%       0.000000  \n",
       "50%       0.000000  \n",
       "75%       1.000000  \n",
       "max       1.000000  "
      ]
     },
     "execution_count": 3,
     "metadata": {},
     "output_type": "execute_result"
    }
   ],
   "source": [
    "data.describe()"
   ]
  },
  {
   "cell_type": "code",
   "execution_count": 4,
   "metadata": {},
   "outputs": [
    {
     "data": {
      "text/html": [
       "<div>\n",
       "<style scoped>\n",
       "    .dataframe tbody tr th:only-of-type {\n",
       "        vertical-align: middle;\n",
       "    }\n",
       "\n",
       "    .dataframe tbody tr th {\n",
       "        vertical-align: top;\n",
       "    }\n",
       "\n",
       "    .dataframe thead th {\n",
       "        text-align: right;\n",
       "    }\n",
       "</style>\n",
       "<table border=\"1\" class=\"dataframe\">\n",
       "  <thead>\n",
       "    <tr style=\"text-align: right;\">\n",
       "      <th></th>\n",
       "      <th>gender</th>\n",
       "      <th>near_location</th>\n",
       "      <th>partner</th>\n",
       "      <th>promo_friends</th>\n",
       "      <th>phone</th>\n",
       "      <th>contract_period</th>\n",
       "      <th>group_visits</th>\n",
       "      <th>age</th>\n",
       "      <th>avg_additional_charges_total</th>\n",
       "      <th>month_to_end_contract</th>\n",
       "      <th>lifetime</th>\n",
       "      <th>avg_class_frequency_total</th>\n",
       "      <th>avg_class_frequency_current_month</th>\n",
       "      <th>churn</th>\n",
       "    </tr>\n",
       "  </thead>\n",
       "  <tbody>\n",
       "    <tr>\n",
       "      <th>count</th>\n",
       "      <td>1061.000000</td>\n",
       "      <td>1061.000000</td>\n",
       "      <td>1061.000000</td>\n",
       "      <td>1061.000000</td>\n",
       "      <td>1061.000000</td>\n",
       "      <td>1061.000000</td>\n",
       "      <td>1061.000000</td>\n",
       "      <td>1061.000000</td>\n",
       "      <td>1061.000000</td>\n",
       "      <td>1061.000000</td>\n",
       "      <td>1061.000000</td>\n",
       "      <td>1061.000000</td>\n",
       "      <td>1061.000000</td>\n",
       "      <td>1061.0</td>\n",
       "    </tr>\n",
       "    <tr>\n",
       "      <th>mean</th>\n",
       "      <td>0.510839</td>\n",
       "      <td>0.768143</td>\n",
       "      <td>0.355325</td>\n",
       "      <td>0.183789</td>\n",
       "      <td>0.902922</td>\n",
       "      <td>1.728558</td>\n",
       "      <td>0.268615</td>\n",
       "      <td>26.989632</td>\n",
       "      <td>115.082899</td>\n",
       "      <td>1.662582</td>\n",
       "      <td>0.990575</td>\n",
       "      <td>1.474995</td>\n",
       "      <td>1.044546</td>\n",
       "      <td>1.0</td>\n",
       "    </tr>\n",
       "    <tr>\n",
       "      <th>std</th>\n",
       "      <td>0.500118</td>\n",
       "      <td>0.422217</td>\n",
       "      <td>0.478837</td>\n",
       "      <td>0.387495</td>\n",
       "      <td>0.296204</td>\n",
       "      <td>2.132371</td>\n",
       "      <td>0.443448</td>\n",
       "      <td>2.895163</td>\n",
       "      <td>77.696419</td>\n",
       "      <td>1.964593</td>\n",
       "      <td>1.110799</td>\n",
       "      <td>0.694705</td>\n",
       "      <td>0.770237</td>\n",
       "      <td>0.0</td>\n",
       "    </tr>\n",
       "    <tr>\n",
       "      <th>min</th>\n",
       "      <td>0.000000</td>\n",
       "      <td>0.000000</td>\n",
       "      <td>0.000000</td>\n",
       "      <td>0.000000</td>\n",
       "      <td>0.000000</td>\n",
       "      <td>1.000000</td>\n",
       "      <td>0.000000</td>\n",
       "      <td>18.000000</td>\n",
       "      <td>0.148205</td>\n",
       "      <td>1.000000</td>\n",
       "      <td>0.000000</td>\n",
       "      <td>0.000000</td>\n",
       "      <td>0.000000</td>\n",
       "      <td>1.0</td>\n",
       "    </tr>\n",
       "    <tr>\n",
       "      <th>25%</th>\n",
       "      <td>0.000000</td>\n",
       "      <td>1.000000</td>\n",
       "      <td>0.000000</td>\n",
       "      <td>0.000000</td>\n",
       "      <td>1.000000</td>\n",
       "      <td>1.000000</td>\n",
       "      <td>0.000000</td>\n",
       "      <td>25.000000</td>\n",
       "      <td>50.629127</td>\n",
       "      <td>1.000000</td>\n",
       "      <td>0.000000</td>\n",
       "      <td>1.010771</td>\n",
       "      <td>0.421337</td>\n",
       "      <td>1.0</td>\n",
       "    </tr>\n",
       "    <tr>\n",
       "      <th>50%</th>\n",
       "      <td>1.000000</td>\n",
       "      <td>1.000000</td>\n",
       "      <td>0.000000</td>\n",
       "      <td>0.000000</td>\n",
       "      <td>1.000000</td>\n",
       "      <td>1.000000</td>\n",
       "      <td>0.000000</td>\n",
       "      <td>27.000000</td>\n",
       "      <td>103.814686</td>\n",
       "      <td>1.000000</td>\n",
       "      <td>1.000000</td>\n",
       "      <td>1.491187</td>\n",
       "      <td>0.979445</td>\n",
       "      <td>1.0</td>\n",
       "    </tr>\n",
       "    <tr>\n",
       "      <th>75%</th>\n",
       "      <td>1.000000</td>\n",
       "      <td>1.000000</td>\n",
       "      <td>1.000000</td>\n",
       "      <td>0.000000</td>\n",
       "      <td>1.000000</td>\n",
       "      <td>1.000000</td>\n",
       "      <td>1.000000</td>\n",
       "      <td>29.000000</td>\n",
       "      <td>165.616858</td>\n",
       "      <td>1.000000</td>\n",
       "      <td>1.000000</td>\n",
       "      <td>1.956438</td>\n",
       "      <td>1.588576</td>\n",
       "      <td>1.0</td>\n",
       "    </tr>\n",
       "    <tr>\n",
       "      <th>max</th>\n",
       "      <td>1.000000</td>\n",
       "      <td>1.000000</td>\n",
       "      <td>1.000000</td>\n",
       "      <td>1.000000</td>\n",
       "      <td>1.000000</td>\n",
       "      <td>12.000000</td>\n",
       "      <td>1.000000</td>\n",
       "      <td>38.000000</td>\n",
       "      <td>425.535220</td>\n",
       "      <td>12.000000</td>\n",
       "      <td>9.000000</td>\n",
       "      <td>3.478646</td>\n",
       "      <td>3.540271</td>\n",
       "      <td>1.0</td>\n",
       "    </tr>\n",
       "  </tbody>\n",
       "</table>\n",
       "</div>"
      ],
      "text/plain": [
       "            gender  near_location      partner  promo_friends        phone  \\\n",
       "count  1061.000000    1061.000000  1061.000000    1061.000000  1061.000000   \n",
       "mean      0.510839       0.768143     0.355325       0.183789     0.902922   \n",
       "std       0.500118       0.422217     0.478837       0.387495     0.296204   \n",
       "min       0.000000       0.000000     0.000000       0.000000     0.000000   \n",
       "25%       0.000000       1.000000     0.000000       0.000000     1.000000   \n",
       "50%       1.000000       1.000000     0.000000       0.000000     1.000000   \n",
       "75%       1.000000       1.000000     1.000000       0.000000     1.000000   \n",
       "max       1.000000       1.000000     1.000000       1.000000     1.000000   \n",
       "\n",
       "       contract_period  group_visits          age  \\\n",
       "count      1061.000000   1061.000000  1061.000000   \n",
       "mean          1.728558      0.268615    26.989632   \n",
       "std           2.132371      0.443448     2.895163   \n",
       "min           1.000000      0.000000    18.000000   \n",
       "25%           1.000000      0.000000    25.000000   \n",
       "50%           1.000000      0.000000    27.000000   \n",
       "75%           1.000000      1.000000    29.000000   \n",
       "max          12.000000      1.000000    38.000000   \n",
       "\n",
       "       avg_additional_charges_total  month_to_end_contract     lifetime  \\\n",
       "count                   1061.000000            1061.000000  1061.000000   \n",
       "mean                     115.082899               1.662582     0.990575   \n",
       "std                       77.696419               1.964593     1.110799   \n",
       "min                        0.148205               1.000000     0.000000   \n",
       "25%                       50.629127               1.000000     0.000000   \n",
       "50%                      103.814686               1.000000     1.000000   \n",
       "75%                      165.616858               1.000000     1.000000   \n",
       "max                      425.535220              12.000000     9.000000   \n",
       "\n",
       "       avg_class_frequency_total  avg_class_frequency_current_month   churn  \n",
       "count                1061.000000                        1061.000000  1061.0  \n",
       "mean                    1.474995                           1.044546     1.0  \n",
       "std                     0.694705                           0.770237     0.0  \n",
       "min                     0.000000                           0.000000     1.0  \n",
       "25%                     1.010771                           0.421337     1.0  \n",
       "50%                     1.491187                           0.979445     1.0  \n",
       "75%                     1.956438                           1.588576     1.0  \n",
       "max                     3.478646                           3.540271     1.0  "
      ]
     },
     "execution_count": 4,
     "metadata": {},
     "output_type": "execute_result"
    }
   ],
   "source": [
    "left = data[data['churn'] == 1]\n",
    "left.describe()"
   ]
  },
  {
   "cell_type": "code",
   "execution_count": 5,
   "metadata": {},
   "outputs": [
    {
     "data": {
      "text/html": [
       "<div>\n",
       "<style scoped>\n",
       "    .dataframe tbody tr th:only-of-type {\n",
       "        vertical-align: middle;\n",
       "    }\n",
       "\n",
       "    .dataframe tbody tr th {\n",
       "        vertical-align: top;\n",
       "    }\n",
       "\n",
       "    .dataframe thead th {\n",
       "        text-align: right;\n",
       "    }\n",
       "</style>\n",
       "<table border=\"1\" class=\"dataframe\">\n",
       "  <thead>\n",
       "    <tr style=\"text-align: right;\">\n",
       "      <th></th>\n",
       "      <th>gender</th>\n",
       "      <th>near_location</th>\n",
       "      <th>partner</th>\n",
       "      <th>promo_friends</th>\n",
       "      <th>phone</th>\n",
       "      <th>contract_period</th>\n",
       "      <th>group_visits</th>\n",
       "      <th>age</th>\n",
       "      <th>avg_additional_charges_total</th>\n",
       "      <th>month_to_end_contract</th>\n",
       "      <th>lifetime</th>\n",
       "      <th>avg_class_frequency_total</th>\n",
       "      <th>avg_class_frequency_current_month</th>\n",
       "      <th>churn</th>\n",
       "    </tr>\n",
       "  </thead>\n",
       "  <tbody>\n",
       "    <tr>\n",
       "      <th>count</th>\n",
       "      <td>2939.000000</td>\n",
       "      <td>2939.000000</td>\n",
       "      <td>2939.000000</td>\n",
       "      <td>2939.000000</td>\n",
       "      <td>2939.000000</td>\n",
       "      <td>2939.000000</td>\n",
       "      <td>2939.000000</td>\n",
       "      <td>2939.000000</td>\n",
       "      <td>2939.000000</td>\n",
       "      <td>2939.000000</td>\n",
       "      <td>2939.000000</td>\n",
       "      <td>2939.000000</td>\n",
       "      <td>2939.000000</td>\n",
       "      <td>2939.0</td>\n",
       "    </tr>\n",
       "    <tr>\n",
       "      <th>mean</th>\n",
       "      <td>0.510037</td>\n",
       "      <td>0.873086</td>\n",
       "      <td>0.534195</td>\n",
       "      <td>0.353522</td>\n",
       "      <td>0.903709</td>\n",
       "      <td>5.747193</td>\n",
       "      <td>0.464103</td>\n",
       "      <td>29.976523</td>\n",
       "      <td>158.445715</td>\n",
       "      <td>5.283089</td>\n",
       "      <td>4.711807</td>\n",
       "      <td>2.024876</td>\n",
       "      <td>2.027882</td>\n",
       "      <td>0.0</td>\n",
       "    </tr>\n",
       "    <tr>\n",
       "      <th>std</th>\n",
       "      <td>0.499984</td>\n",
       "      <td>0.332933</td>\n",
       "      <td>0.498914</td>\n",
       "      <td>0.478144</td>\n",
       "      <td>0.295040</td>\n",
       "      <td>4.716942</td>\n",
       "      <td>0.498795</td>\n",
       "      <td>3.009933</td>\n",
       "      <td>99.801599</td>\n",
       "      <td>4.363522</td>\n",
       "      <td>3.874780</td>\n",
       "      <td>1.016006</td>\n",
       "      <td>1.018994</td>\n",
       "      <td>0.0</td>\n",
       "    </tr>\n",
       "    <tr>\n",
       "      <th>min</th>\n",
       "      <td>0.000000</td>\n",
       "      <td>0.000000</td>\n",
       "      <td>0.000000</td>\n",
       "      <td>0.000000</td>\n",
       "      <td>0.000000</td>\n",
       "      <td>1.000000</td>\n",
       "      <td>0.000000</td>\n",
       "      <td>19.000000</td>\n",
       "      <td>0.171862</td>\n",
       "      <td>1.000000</td>\n",
       "      <td>0.000000</td>\n",
       "      <td>0.000000</td>\n",
       "      <td>0.000000</td>\n",
       "      <td>0.0</td>\n",
       "    </tr>\n",
       "    <tr>\n",
       "      <th>25%</th>\n",
       "      <td>0.000000</td>\n",
       "      <td>1.000000</td>\n",
       "      <td>0.000000</td>\n",
       "      <td>0.000000</td>\n",
       "      <td>1.000000</td>\n",
       "      <td>1.000000</td>\n",
       "      <td>0.000000</td>\n",
       "      <td>28.000000</td>\n",
       "      <td>76.920993</td>\n",
       "      <td>1.000000</td>\n",
       "      <td>2.000000</td>\n",
       "      <td>1.283137</td>\n",
       "      <td>1.297021</td>\n",
       "      <td>0.0</td>\n",
       "    </tr>\n",
       "    <tr>\n",
       "      <th>50%</th>\n",
       "      <td>1.000000</td>\n",
       "      <td>1.000000</td>\n",
       "      <td>1.000000</td>\n",
       "      <td>0.000000</td>\n",
       "      <td>1.000000</td>\n",
       "      <td>6.000000</td>\n",
       "      <td>0.000000</td>\n",
       "      <td>30.000000</td>\n",
       "      <td>149.881171</td>\n",
       "      <td>6.000000</td>\n",
       "      <td>4.000000</td>\n",
       "      <td>2.043252</td>\n",
       "      <td>2.046697</td>\n",
       "      <td>0.0</td>\n",
       "    </tr>\n",
       "    <tr>\n",
       "      <th>75%</th>\n",
       "      <td>1.000000</td>\n",
       "      <td>1.000000</td>\n",
       "      <td>1.000000</td>\n",
       "      <td>1.000000</td>\n",
       "      <td>1.000000</td>\n",
       "      <td>12.000000</td>\n",
       "      <td>1.000000</td>\n",
       "      <td>32.000000</td>\n",
       "      <td>224.448274</td>\n",
       "      <td>10.000000</td>\n",
       "      <td>6.000000</td>\n",
       "      <td>2.732944</td>\n",
       "      <td>2.740648</td>\n",
       "      <td>0.0</td>\n",
       "    </tr>\n",
       "    <tr>\n",
       "      <th>max</th>\n",
       "      <td>1.000000</td>\n",
       "      <td>1.000000</td>\n",
       "      <td>1.000000</td>\n",
       "      <td>1.000000</td>\n",
       "      <td>1.000000</td>\n",
       "      <td>12.000000</td>\n",
       "      <td>1.000000</td>\n",
       "      <td>41.000000</td>\n",
       "      <td>552.590740</td>\n",
       "      <td>12.000000</td>\n",
       "      <td>31.000000</td>\n",
       "      <td>6.023668</td>\n",
       "      <td>6.146783</td>\n",
       "      <td>0.0</td>\n",
       "    </tr>\n",
       "  </tbody>\n",
       "</table>\n",
       "</div>"
      ],
      "text/plain": [
       "            gender  near_location      partner  promo_friends        phone  \\\n",
       "count  2939.000000    2939.000000  2939.000000    2939.000000  2939.000000   \n",
       "mean      0.510037       0.873086     0.534195       0.353522     0.903709   \n",
       "std       0.499984       0.332933     0.498914       0.478144     0.295040   \n",
       "min       0.000000       0.000000     0.000000       0.000000     0.000000   \n",
       "25%       0.000000       1.000000     0.000000       0.000000     1.000000   \n",
       "50%       1.000000       1.000000     1.000000       0.000000     1.000000   \n",
       "75%       1.000000       1.000000     1.000000       1.000000     1.000000   \n",
       "max       1.000000       1.000000     1.000000       1.000000     1.000000   \n",
       "\n",
       "       contract_period  group_visits          age  \\\n",
       "count      2939.000000   2939.000000  2939.000000   \n",
       "mean          5.747193      0.464103    29.976523   \n",
       "std           4.716942      0.498795     3.009933   \n",
       "min           1.000000      0.000000    19.000000   \n",
       "25%           1.000000      0.000000    28.000000   \n",
       "50%           6.000000      0.000000    30.000000   \n",
       "75%          12.000000      1.000000    32.000000   \n",
       "max          12.000000      1.000000    41.000000   \n",
       "\n",
       "       avg_additional_charges_total  month_to_end_contract     lifetime  \\\n",
       "count                   2939.000000            2939.000000  2939.000000   \n",
       "mean                     158.445715               5.283089     4.711807   \n",
       "std                       99.801599               4.363522     3.874780   \n",
       "min                        0.171862               1.000000     0.000000   \n",
       "25%                       76.920993               1.000000     2.000000   \n",
       "50%                      149.881171               6.000000     4.000000   \n",
       "75%                      224.448274              10.000000     6.000000   \n",
       "max                      552.590740              12.000000    31.000000   \n",
       "\n",
       "       avg_class_frequency_total  avg_class_frequency_current_month   churn  \n",
       "count                2939.000000                        2939.000000  2939.0  \n",
       "mean                    2.024876                           2.027882     0.0  \n",
       "std                     1.016006                           1.018994     0.0  \n",
       "min                     0.000000                           0.000000     0.0  \n",
       "25%                     1.283137                           1.297021     0.0  \n",
       "50%                     2.043252                           2.046697     0.0  \n",
       "75%                     2.732944                           2.740648     0.0  \n",
       "max                     6.023668                           6.146783     0.0  "
      ]
     },
     "execution_count": 5,
     "metadata": {},
     "output_type": "execute_result"
    }
   ],
   "source": [
    "stayed = data[data['churn'] == 0]\n",
    "stayed.describe()"
   ]
  },
  {
   "cell_type": "markdown",
   "metadata": {
    "scrolled": false
   },
   "source": [
    "*Conclusion:* The dataset contains 4000 clients, 1061 of them (about a quarter) churned.\n",
    "\n",
    "The dataset does not contain gaps. Judging by the means and standard deviations, customers who stay, on average:\n",
    "\n",
    "- go to the gym more often\n",
    "- more likely to live or work near the gym\n",
    "- are more often employed by a club partner company\n",
    "- often come through friends and acquaintances\n",
    "- choose longer contracts\n",
    "- attend group classes more often\n",
    "- leave a lot more money in the club (cafe, sports goods, cosmetic and massage salon)\n",
    "- a few years older (26-33 years old, while churned clients are 24-30 years old)\n",
    "\n",
    "The presence of a phone number and gender most likely does not affect the fact of churn.\n",
    "\n",
    "For convenience, we will further refer to the customers retained as loyal customers."
   ]
  },
  {
   "cell_type": "code",
   "execution_count": 6,
   "metadata": {
    "scrolled": true
   },
   "outputs": [
    {
     "data": {
      "image/png": "[encoded data removed]",
      "text/plain": [
       "<Figure size 720x360 with 1 Axes>"
      ]
     },
     "metadata": {},
     "output_type": "display_data"
    },
    {
     "data": {
      "image/png": "[encoded data removed]",
      "text/plain": [
       "<Figure size 720x360 with 1 Axes>"
      ]
     },
     "metadata": {},
     "output_type": "display_data"
    },
    {
     "data": {
      "image/png": "[encoded data removed]",
      "text/plain": [
       "<Figure size 720x360 with 1 Axes>"
      ]
     },
     "metadata": {},
     "output_type": "display_data"
    },
    {
     "data": {
      "image/png": "[encoded data removed]",
      "text/plain": [
       "<Figure size 720x360 with 1 Axes>"
      ]
     },
     "metadata": {},
     "output_type": "display_data"
    },
    {
     "data": {
      "image/png": "[encoded data removed]",
      "text/plain": [
       "<Figure size 720x360 with 1 Axes>"
      ]
     },
     "metadata": {},
     "output_type": "display_data"
    },
    {
     "data": {
      "image/png": "[encoded data removed]",
      "text/plain": [
       "<Figure size 720x360 with 1 Axes>"
      ]
     },
     "metadata": {},
     "output_type": "display_data"
    }
   ],
   "source": [
    "#let's build joint histograms of features distributions (churn/non-churn)\n",
    "sns.set(style=\"white\", palette=\"tab10\", color_codes=True)\n",
    "sns.set(rc={'figure.figsize':(10,5)})\n",
    "\n",
    "for col in ['age','lifetime','month_to_end_contract','avg_additional_charges_total','avg_class_frequency_total','avg_class_frequency_current_month']:\n",
    "    sns.distplot(stayed[col], kde=False, bins=20)\n",
    "    sns.distplot(left[col], kde=False, bins=20)\n",
    "    plt.legend(labels=[\"retention group\", \"churn group\"]) \n",
    "    plt.show()"
   ]
  },
  {
   "cell_type": "markdown",
   "metadata": {
    "scrolled": false
   },
   "source": [
    "*Conclusion:*\n",
    "- Age: Most loyal customers are 30 years old (20-40). Churned clients - 24-29 years old.\n",
    "- Additional spending and average attendance have approximately the same distributions in both groups.\n",
    "- Loyal customers choose all kinds of contracts (1, 6 and 12 months), while churned ones tend to take short ones (1 month only)."
   ]
  },
  {
   "cell_type": "code",
   "execution_count": 7,
   "metadata": {
    "scrolled": true
   },
   "outputs": [
    {
     "data": {
      "image/png": "[encoded data removed]",
      "text/plain": [
       "<Figure size 432x216 with 1 Axes>"
      ]
     },
     "metadata": {},
     "output_type": "display_data"
    },
    {
     "data": {
      "image/png": "[encoded data removed]",
      "text/plain": [
       "<Figure size 432x216 with 1 Axes>"
      ]
     },
     "metadata": {},
     "output_type": "display_data"
    },
    {
     "data": {
      "image/png": "[encoded data removed]",
      "text/plain": [
       "<Figure size 432x216 with 1 Axes>"
      ]
     },
     "metadata": {},
     "output_type": "display_data"
    },
    {
     "data": {
      "image/png": "[encoded data removed]",
      "text/plain": [
       "<Figure size 432x216 with 1 Axes>"
      ]
     },
     "metadata": {},
     "output_type": "display_data"
    },
    {
     "data": {
      "image/png": "[encoded data removed]",
      "text/plain": [
       "<Figure size 432x216 with 1 Axes>"
      ]
     },
     "metadata": {},
     "output_type": "display_data"
    },
    {
     "data": {
      "image/png": "[encoded data removed]",
      "text/plain": [
       "<Figure size 432x216 with 1 Axes>"
      ]
     },
     "metadata": {},
     "output_type": "display_data"
    },
    {
     "data": {
      "image/png": "[encoded data removed]",
      "text/plain": [
       "<Figure size 432x216 with 1 Axes>"
      ]
     },
     "metadata": {},
     "output_type": "display_data"
    }
   ],
   "source": [
    "#let's build joint bar charts of binary features (churn/non-churn)\n",
    "sns.set(rc={'figure.figsize':(6,3)})\n",
    "for col in ['gender','near_location','partner','promo_friends','phone','group_visits', 'contract_period']:\n",
    "    sns.barplot(x='churn', y=col, data=data, estimator = np.mean) \n",
    "    plt.show()"
   ]
  },
  {
   "cell_type": "markdown",
   "metadata": {
    "scrolled": false
   },
   "source": [
    "*Conclusion:* Loyal customers on average:\n",
    "- are more likely to live or work near the gym (90% of loyal customers versus 70% in the churn group)\n",
    "- are more likely to work for a one of the club's partner companies (55% vs. 35%)\n",
    "- more often come through friends and acquaintances (35% of loyal customers versus 18% in the churn group)\n",
    "- choose longer contracts (5.5 months in the group of loyal customers versus 1.5 months in the churn group)\n",
    "- attend group classes more often (45% in the group of loyal customers versus 27% in the churn group)\n",
    "\n",
    "The presence of a phone number and gender most likely does not affect the churn."
   ]
  },
  {
   "cell_type": "code",
   "execution_count": 8,
   "metadata": {
    "scrolled": false
   },
   "outputs": [
    {
     "data": {
      "image/png": "[encoded data removed]",
      "text/plain": [
       "<Figure size 936x936 with 2 Axes>"
      ]
     },
     "metadata": {},
     "output_type": "display_data"
    }
   ],
   "source": [
    "#let's build the correlation matrix\n",
    "cm = data.corr() \n",
    "fig, ax = plt.subplots(figsize=(13,13))\n",
    "sns.heatmap(cm, annot = True, square=True)\n",
    "plt.show()"
   ]
  },
  {
   "cell_type": "markdown",
   "metadata": {
    "scrolled": false
   },
   "source": [
    "*Conclusion:* Judging by the correlation matrix, the following parameters depend on each other and can affect the quality of linear models:\n",
    "- contact_period and month_to_end_contract\n",
    "- avg_class_frequency_current_month and avg_class_frequency_total\n",
    "\n",
    "Let's remove the month_to_end_contract and avg_class_frequency_total variables."
   ]
  },
  {
   "cell_type": "code",
   "execution_count": 9,
   "metadata": {},
   "outputs": [],
   "source": [
    "data.drop('month_to_end_contract', inplace=True, axis=1)\n",
    "data.drop('avg_class_frequency_total', inplace=True, axis=1)"
   ]
  },
  {
   "cell_type": "markdown",
   "metadata": {},
   "source": [
    "## 5. Churn Prediction Model\n",
    "\n",
    "Let's build a binary classification model of customers, where the target vsriable is the fact of churn in the next month:\n",
    "\n",
    "- Split the data into training and validation samples using the train_test_split() function.\n",
    "- Train the model on the train sample in two ways: logistic regression, random forest.\n",
    "- Evaluate the accuracy, precision, and recall metrics for both models on the validation set.\n",
    "- Compare models on them. Which model performed better based on the metrics?\n",
    "- Don't forget to specify the random_state parameter when splitting the sample and specifying the algorithm."
   ]
  },
  {
   "cell_type": "code",
   "execution_count": 10,
   "metadata": {},
   "outputs": [
    {
     "name": "stdout",
     "output_type": "stream",
     "text": [
      "logistic regression model metrics:\n",
      "\tAccuracy: 0.90\n",
      "\tPrecision: 0.79\n",
      "\tRecall: 0.82\n",
      "random forest model metrics:\n",
      "\tAccuracy: 0.90\n",
      "\tPrecision: 0.81\n",
      "\tRecall: 0.75\n"
     ]
    }
   ],
   "source": [
    "#splitting the data into features (matrix X) and target variable (y)\n",
    "X = data.drop('churn', axis = 1)\n",
    "y = data['churn']\n",
    "\n",
    "#defining the metrics \n",
    "def print_all_metrics(y_true, y_pred, y_proba, title='Model Metrics'):\n",
    "    print(title)\n",
    "    print('\\tAccuracy: {:.2f}'.format(accuracy_score(y_true, y_pred)))\n",
    "    print('\\tPrecision: {:.2f}'.format(precision_score(y_true, y_pred)))\n",
    "    print('\\tRecall: {:.2f}'.format(recall_score(y_true, y_pred)))\n",
    "\n",
    "#splitting the data into training and validation sets\n",
    "X_train, X_test, y_train, y_test = train_test_split(\n",
    "    X, y, test_size=0.2, random_state=0\n",
    ")\n",
    "\n",
    "#training StandardScaler on a training set\n",
    "scaler = StandardScaler()\n",
    "scaler.fit(X_train)\n",
    "\n",
    "#transforming the training and validation Datasets\n",
    "X_train_st = scaler.transform(X_train)\n",
    "X_test_st = scaler.transform(X_test)\n",
    "\n",
    "#logistic regression model\n",
    "lr_model = LogisticRegression(random_state=0)\n",
    "#training the model\n",
    "lr_model.fit(X_train_st, y_train)\n",
    "#building predictions\n",
    "lr_predictions = lr_model.predict(X_test_st)\n",
    "lr_probabilities = lr_model.predict_proba(X_test_st)[:, 1]\n",
    "#printing the metrics\n",
    "print_all_metrics(\n",
    "    y_test,\n",
    "    lr_predictions,\n",
    "    lr_probabilities,\n",
    "    title='logistic regression model metrics:',\n",
    ")\n",
    "\n",
    "#random forest\n",
    "rf_model = RandomForestClassifier(n_estimators = 100,random_state=0)\n",
    "rf_model.fit(X_train, y_train)\n",
    "rf_predictions = rf_model.predict(X_test)\n",
    "rf_probabilities = rf_model.predict_proba(X_test)[:, 1]\n",
    "\n",
    "print_all_metrics(\n",
    "    y_test,\n",
    "    rf_predictions,\n",
    "    rf_probabilities,\n",
    "    title='random forest model metrics:'\n",
    ")"
   ]
  },
  {
   "cell_type": "markdown",
   "metadata": {
    "scrolled": false
   },
   "source": [
    "*Notes:*\n",
    "\n",
    "\n",
    "Accuracy tells us how many times the ML model was correct overall.\n",
    "- Accuracy = (TP + TN) / n\n",
    "\n",
    "Precision is how good the model is at predicting the positive answers.\n",
    "Precision is a good measure to determine, when the costs of False Positive is high.\n",
    "- Precision = TP / (TP + FP)\n",
    "\n",
    "Recall calculates how many of the Actual Positives our model capture through labeling it as Positive (True Positive). Recall shall be the model metric we use to select our best model when there is a high cost associated with False Negative.\n",
    "- Recall = TP / (TP + FN)\n",
    "\n",
    "where:\n",
    "\n",
    "- TP - true positive responses\n",
    "- TN - true negative responses\n",
    "- FP - false positive responses\n",
    "- FN - false negative responses\n",
    "- n - all answers"
   ]
  },
  {
   "cell_type": "markdown",
   "metadata": {
    "scrolled": false
   },
   "source": [
    "*Conclusion:* The best model of the two is logistic regression, with equal Accuracy scores, its Precision and Recall scores are higher."
   ]
  },
  {
   "cell_type": "code",
   "execution_count": 11,
   "metadata": {},
   "outputs": [
    {
     "name": "stdout",
     "output_type": "stream",
     "text": [
      "                              feature     coeff  coeff_abs\n",
      "9                            lifetime -3.922703   3.922703\n",
      "5                     contract_period -1.340862   1.340862\n",
      "10  avg_class_frequency_current_month -1.326734   1.326734\n",
      "7                                 age -1.102478   1.102478\n",
      "8        avg_additional_charges_total -0.582020   0.582020\n",
      "6                        group_visits -0.378909   0.378909\n",
      "3                       promo_friends -0.244437   0.244437\n",
      "4                               phone -0.088119   0.088119\n",
      "1                       near_location -0.083076   0.083076\n",
      "2                             partner -0.069225   0.069225\n",
      "0                              gender  0.050670   0.050670\n"
     ]
    }
   ],
   "source": [
    "#let's print out the coefficients of all features\n",
    "features = pd.DataFrame({'feature': X.columns, 'coeff': lr_model.coef_[0]})\n",
    "features['coeff_abs']=features['coeff'].abs()\n",
    "print(features.sort_values(by='coeff_abs', ascending=False))"
   ]
  },
  {
   "cell_type": "markdown",
   "metadata": {
    "scrolled": false
   },
   "source": [
    "*Conclusion:* Lifetime, attendance, contract period and age affect churn the most.\n",
    "\n",
    "The longer the client has been with the club, the higher his average attendance for the last month and the higher the age, the lower the churn.\n",
    "\n",
    "Churn is also affected by group activities and the presence of friends training at the club. Clients who attend group classes are less likely to leave, as well as clients who are brought to the club by relatives, friends and acquaintances.\n",
    "\n",
    "Gender, the presence of a telephone almost do not affect the churn (as we suggested above), as well as the distance from the club and affiliate programs."
   ]
  },
  {
   "cell_type": "markdown",
   "metadata": {},
   "source": [
    "## 6. Customers Clusterization\n",
    "\n",
    "Set aside the churn column and cluster the customers:\n",
    "\n",
    "- Standardize your data.\n",
    "\n",
    "- Build a distance matrix with the linkage() function on a standardized feature matrix and draw a dendrogram. \n",
    "\n",
    "- Train a clustering model based on the K-Means algorithm and predict customer clusters.\n",
    "\n",
    "- Plot feature distributions for the clusters.\n",
    "\n",
    "- For each resulting cluster, calculate the churn rate."
   ]
  },
  {
   "cell_type": "code",
   "execution_count": 12,
   "metadata": {},
   "outputs": [],
   "source": [
    "sc = StandardScaler()\n",
    "x_sc = sc.fit_transform(X)"
   ]
  },
  {
   "cell_type": "code",
   "execution_count": null,
   "metadata": {},
   "outputs": [],
   "source": [
    "linked = linkage(x_sc, method = 'ward')\n",
    "plt.figure(figsize=(15, 10))  \n",
    "dendrogram(linked, orientation='top')\n",
    "plt.show() "
   ]
  },
  {
   "cell_type": "markdown",
   "metadata": {
    "scrolled": false
   },
   "source": [
    "The dendogram shows us that we need to build 4 clusters."
   ]
  },
  {
   "cell_type": "code",
   "execution_count": 13,
   "metadata": {},
   "outputs": [],
   "source": [
    "def show_clusters_on_plot(df, x_name, y_name, cluster_name):\n",
    "    plt.figure(figsize=(10, 10))\n",
    "    sns.scatterplot(\n",
    "        df[x_name], df[y_name], hue=df[cluster_name], palette='Paired'\n",
    "    )\n",
    "    plt.title('{} vs {}'.format(x_name, y_name))\n",
    "    plt.show()\n",
    "\n",
    "km = KMeans(n_clusters = 4, random_state=0)\n",
    "labels = km.fit_predict(x_sc)\n",
    "\n",
    "data['labels'] = labels"
   ]
  },
  {
   "cell_type": "code",
   "execution_count": 14,
   "metadata": {
    "scrolled": false
   },
   "outputs": [
    {
     "name": "stdout",
     "output_type": "stream",
     "text": [
      "Group 0\n"
     ]
    },
    {
     "data": {
      "text/html": [
       "<div>\n",
       "<style scoped>\n",
       "    .dataframe tbody tr th:only-of-type {\n",
       "        vertical-align: middle;\n",
       "    }\n",
       "\n",
       "    .dataframe tbody tr th {\n",
       "        vertical-align: top;\n",
       "    }\n",
       "\n",
       "    .dataframe thead th {\n",
       "        text-align: right;\n",
       "    }\n",
       "</style>\n",
       "<table border=\"1\" class=\"dataframe\">\n",
       "  <thead>\n",
       "    <tr style=\"text-align: right;\">\n",
       "      <th></th>\n",
       "      <th>gender</th>\n",
       "      <th>near_location</th>\n",
       "      <th>partner</th>\n",
       "      <th>promo_friends</th>\n",
       "      <th>phone</th>\n",
       "      <th>contract_period</th>\n",
       "      <th>group_visits</th>\n",
       "      <th>age</th>\n",
       "      <th>avg_additional_charges_total</th>\n",
       "      <th>lifetime</th>\n",
       "      <th>avg_class_frequency_current_month</th>\n",
       "      <th>churn</th>\n",
       "      <th>labels</th>\n",
       "    </tr>\n",
       "  </thead>\n",
       "  <tbody>\n",
       "    <tr>\n",
       "      <th>count</th>\n",
       "      <td>386.000000</td>\n",
       "      <td>386.000000</td>\n",
       "      <td>386.000000</td>\n",
       "      <td>386.000000</td>\n",
       "      <td>386.0</td>\n",
       "      <td>386.000000</td>\n",
       "      <td>386.000000</td>\n",
       "      <td>386.000000</td>\n",
       "      <td>386.000000</td>\n",
       "      <td>386.000000</td>\n",
       "      <td>386.000000</td>\n",
       "      <td>386.000000</td>\n",
       "      <td>386.0</td>\n",
       "    </tr>\n",
       "    <tr>\n",
       "      <th>mean</th>\n",
       "      <td>0.523316</td>\n",
       "      <td>0.862694</td>\n",
       "      <td>0.471503</td>\n",
       "      <td>0.305699</td>\n",
       "      <td>0.0</td>\n",
       "      <td>4.777202</td>\n",
       "      <td>0.427461</td>\n",
       "      <td>29.297927</td>\n",
       "      <td>144.208179</td>\n",
       "      <td>3.940415</td>\n",
       "      <td>1.723967</td>\n",
       "      <td>0.266839</td>\n",
       "      <td>0.0</td>\n",
       "    </tr>\n",
       "    <tr>\n",
       "      <th>std</th>\n",
       "      <td>0.500104</td>\n",
       "      <td>0.344616</td>\n",
       "      <td>0.499835</td>\n",
       "      <td>0.461301</td>\n",
       "      <td>0.0</td>\n",
       "      <td>4.535814</td>\n",
       "      <td>0.495352</td>\n",
       "      <td>3.160938</td>\n",
       "      <td>94.124743</td>\n",
       "      <td>4.052778</td>\n",
       "      <td>1.022920</td>\n",
       "      <td>0.442882</td>\n",
       "      <td>0.0</td>\n",
       "    </tr>\n",
       "    <tr>\n",
       "      <th>min</th>\n",
       "      <td>0.000000</td>\n",
       "      <td>0.000000</td>\n",
       "      <td>0.000000</td>\n",
       "      <td>0.000000</td>\n",
       "      <td>0.0</td>\n",
       "      <td>1.000000</td>\n",
       "      <td>0.000000</td>\n",
       "      <td>20.000000</td>\n",
       "      <td>1.767654</td>\n",
       "      <td>0.000000</td>\n",
       "      <td>0.000000</td>\n",
       "      <td>0.000000</td>\n",
       "      <td>0.0</td>\n",
       "    </tr>\n",
       "    <tr>\n",
       "      <th>25%</th>\n",
       "      <td>0.000000</td>\n",
       "      <td>1.000000</td>\n",
       "      <td>0.000000</td>\n",
       "      <td>0.000000</td>\n",
       "      <td>0.0</td>\n",
       "      <td>1.000000</td>\n",
       "      <td>0.000000</td>\n",
       "      <td>27.000000</td>\n",
       "      <td>71.090935</td>\n",
       "      <td>1.000000</td>\n",
       "      <td>1.023523</td>\n",
       "      <td>0.000000</td>\n",
       "      <td>0.0</td>\n",
       "    </tr>\n",
       "    <tr>\n",
       "      <th>50%</th>\n",
       "      <td>1.000000</td>\n",
       "      <td>1.000000</td>\n",
       "      <td>0.000000</td>\n",
       "      <td>0.000000</td>\n",
       "      <td>0.0</td>\n",
       "      <td>1.000000</td>\n",
       "      <td>0.000000</td>\n",
       "      <td>29.000000</td>\n",
       "      <td>137.016545</td>\n",
       "      <td>3.000000</td>\n",
       "      <td>1.657683</td>\n",
       "      <td>0.000000</td>\n",
       "      <td>0.0</td>\n",
       "    </tr>\n",
       "    <tr>\n",
       "      <th>75%</th>\n",
       "      <td>1.000000</td>\n",
       "      <td>1.000000</td>\n",
       "      <td>1.000000</td>\n",
       "      <td>1.000000</td>\n",
       "      <td>0.0</td>\n",
       "      <td>6.000000</td>\n",
       "      <td>1.000000</td>\n",
       "      <td>31.000000</td>\n",
       "      <td>204.014435</td>\n",
       "      <td>5.000000</td>\n",
       "      <td>2.390229</td>\n",
       "      <td>1.000000</td>\n",
       "      <td>0.0</td>\n",
       "    </tr>\n",
       "    <tr>\n",
       "      <th>max</th>\n",
       "      <td>1.000000</td>\n",
       "      <td>1.000000</td>\n",
       "      <td>1.000000</td>\n",
       "      <td>1.000000</td>\n",
       "      <td>0.0</td>\n",
       "      <td>12.000000</td>\n",
       "      <td>1.000000</td>\n",
       "      <td>38.000000</td>\n",
       "      <td>496.172222</td>\n",
       "      <td>26.000000</td>\n",
       "      <td>4.729706</td>\n",
       "      <td>1.000000</td>\n",
       "      <td>0.0</td>\n",
       "    </tr>\n",
       "  </tbody>\n",
       "</table>\n",
       "</div>"
      ],
      "text/plain": [
       "           gender  near_location     partner  promo_friends  phone  \\\n",
       "count  386.000000     386.000000  386.000000     386.000000  386.0   \n",
       "mean     0.523316       0.862694    0.471503       0.305699    0.0   \n",
       "std      0.500104       0.344616    0.499835       0.461301    0.0   \n",
       "min      0.000000       0.000000    0.000000       0.000000    0.0   \n",
       "25%      0.000000       1.000000    0.000000       0.000000    0.0   \n",
       "50%      1.000000       1.000000    0.000000       0.000000    0.0   \n",
       "75%      1.000000       1.000000    1.000000       1.000000    0.0   \n",
       "max      1.000000       1.000000    1.000000       1.000000    0.0   \n",
       "\n",
       "       contract_period  group_visits         age  \\\n",
       "count       386.000000    386.000000  386.000000   \n",
       "mean          4.777202      0.427461   29.297927   \n",
       "std           4.535814      0.495352    3.160938   \n",
       "min           1.000000      0.000000   20.000000   \n",
       "25%           1.000000      0.000000   27.000000   \n",
       "50%           1.000000      0.000000   29.000000   \n",
       "75%           6.000000      1.000000   31.000000   \n",
       "max          12.000000      1.000000   38.000000   \n",
       "\n",
       "       avg_additional_charges_total    lifetime  \\\n",
       "count                    386.000000  386.000000   \n",
       "mean                     144.208179    3.940415   \n",
       "std                       94.124743    4.052778   \n",
       "min                        1.767654    0.000000   \n",
       "25%                       71.090935    1.000000   \n",
       "50%                      137.016545    3.000000   \n",
       "75%                      204.014435    5.000000   \n",
       "max                      496.172222   26.000000   \n",
       "\n",
       "       avg_class_frequency_current_month       churn  labels  \n",
       "count                         386.000000  386.000000   386.0  \n",
       "mean                            1.723967    0.266839     0.0  \n",
       "std                             1.022920    0.442882     0.0  \n",
       "min                             0.000000    0.000000     0.0  \n",
       "25%                             1.023523    0.000000     0.0  \n",
       "50%                             1.657683    0.000000     0.0  \n",
       "75%                             2.390229    1.000000     0.0  \n",
       "max                             4.729706    1.000000     0.0  "
      ]
     },
     "execution_count": 14,
     "metadata": {},
     "output_type": "execute_result"
    }
   ],
   "source": [
    "print('Group 0')\n",
    "group0 = data[data['labels'] == 0]\n",
    "group0.describe()"
   ]
  },
  {
   "cell_type": "markdown",
   "metadata": {
    "scrolled": false
   },
   "source": [
    "**Group 0** contains 386 clients. These clients:\n",
    "- in 86% of cases live or work near the club\n",
    "- in 47% of cases work in partner organizations\n",
    "- in 30% of cases came through friends\n",
    "- never leave their phone number in the system\n",
    "- in 43% of cases go to group classes\n",
    "- 26-32 years old\n",
    "- left in the club an average of 144 rubles for additional services for the entire time\n",
    "- choose longer contracts (4.8 months on average)\n",
    "- visit the gym 1.72 times a week \n",
    "- have an average churn rate of 27%"
   ]
  },
  {
   "cell_type": "code",
   "execution_count": 15,
   "metadata": {
    "scrolled": false
   },
   "outputs": [
    {
     "name": "stdout",
     "output_type": "stream",
     "text": [
      "Group 1\n"
     ]
    },
    {
     "data": {
      "text/html": [
       "<div>\n",
       "<style scoped>\n",
       "    .dataframe tbody tr th:only-of-type {\n",
       "        vertical-align: middle;\n",
       "    }\n",
       "\n",
       "    .dataframe tbody tr th {\n",
       "        vertical-align: top;\n",
       "    }\n",
       "\n",
       "    .dataframe thead th {\n",
       "        text-align: right;\n",
       "    }\n",
       "</style>\n",
       "<table border=\"1\" class=\"dataframe\">\n",
       "  <thead>\n",
       "    <tr style=\"text-align: right;\">\n",
       "      <th></th>\n",
       "      <th>gender</th>\n",
       "      <th>near_location</th>\n",
       "      <th>partner</th>\n",
       "      <th>promo_friends</th>\n",
       "      <th>phone</th>\n",
       "      <th>contract_period</th>\n",
       "      <th>group_visits</th>\n",
       "      <th>age</th>\n",
       "      <th>avg_additional_charges_total</th>\n",
       "      <th>lifetime</th>\n",
       "      <th>avg_class_frequency_current_month</th>\n",
       "      <th>churn</th>\n",
       "      <th>labels</th>\n",
       "    </tr>\n",
       "  </thead>\n",
       "  <tbody>\n",
       "    <tr>\n",
       "      <th>count</th>\n",
       "      <td>1318.000000</td>\n",
       "      <td>1318.000000</td>\n",
       "      <td>1318.000000</td>\n",
       "      <td>1318.000000</td>\n",
       "      <td>1318.0</td>\n",
       "      <td>1318.000000</td>\n",
       "      <td>1318.000000</td>\n",
       "      <td>1318.000000</td>\n",
       "      <td>1318.000000</td>\n",
       "      <td>1318.000000</td>\n",
       "      <td>1318.000000</td>\n",
       "      <td>1318.000000</td>\n",
       "      <td>1318.0</td>\n",
       "    </tr>\n",
       "    <tr>\n",
       "      <th>mean</th>\n",
       "      <td>0.495448</td>\n",
       "      <td>0.670713</td>\n",
       "      <td>0.296662</td>\n",
       "      <td>0.044006</td>\n",
       "      <td>1.0</td>\n",
       "      <td>1.946131</td>\n",
       "      <td>0.207891</td>\n",
       "      <td>27.554628</td>\n",
       "      <td>118.680416</td>\n",
       "      <td>1.916540</td>\n",
       "      <td>1.212660</td>\n",
       "      <td>0.593323</td>\n",
       "      <td>1.0</td>\n",
       "    </tr>\n",
       "    <tr>\n",
       "      <th>std</th>\n",
       "      <td>0.500169</td>\n",
       "      <td>0.470133</td>\n",
       "      <td>0.456959</td>\n",
       "      <td>0.205186</td>\n",
       "      <td>0.0</td>\n",
       "      <td>2.385920</td>\n",
       "      <td>0.405952</td>\n",
       "      <td>3.002602</td>\n",
       "      <td>82.341604</td>\n",
       "      <td>2.103405</td>\n",
       "      <td>0.857046</td>\n",
       "      <td>0.491400</td>\n",
       "      <td>0.0</td>\n",
       "    </tr>\n",
       "    <tr>\n",
       "      <th>min</th>\n",
       "      <td>0.000000</td>\n",
       "      <td>0.000000</td>\n",
       "      <td>0.000000</td>\n",
       "      <td>0.000000</td>\n",
       "      <td>1.0</td>\n",
       "      <td>1.000000</td>\n",
       "      <td>0.000000</td>\n",
       "      <td>18.000000</td>\n",
       "      <td>0.171862</td>\n",
       "      <td>0.000000</td>\n",
       "      <td>0.000000</td>\n",
       "      <td>0.000000</td>\n",
       "      <td>1.0</td>\n",
       "    </tr>\n",
       "    <tr>\n",
       "      <th>25%</th>\n",
       "      <td>0.000000</td>\n",
       "      <td>0.000000</td>\n",
       "      <td>0.000000</td>\n",
       "      <td>0.000000</td>\n",
       "      <td>1.0</td>\n",
       "      <td>1.000000</td>\n",
       "      <td>0.000000</td>\n",
       "      <td>25.000000</td>\n",
       "      <td>51.197139</td>\n",
       "      <td>1.000000</td>\n",
       "      <td>0.559601</td>\n",
       "      <td>0.000000</td>\n",
       "      <td>1.0</td>\n",
       "    </tr>\n",
       "    <tr>\n",
       "      <th>50%</th>\n",
       "      <td>0.000000</td>\n",
       "      <td>1.000000</td>\n",
       "      <td>0.000000</td>\n",
       "      <td>0.000000</td>\n",
       "      <td>1.0</td>\n",
       "      <td>1.000000</td>\n",
       "      <td>0.000000</td>\n",
       "      <td>28.000000</td>\n",
       "      <td>107.302082</td>\n",
       "      <td>1.000000</td>\n",
       "      <td>1.140953</td>\n",
       "      <td>1.000000</td>\n",
       "      <td>1.0</td>\n",
       "    </tr>\n",
       "    <tr>\n",
       "      <th>75%</th>\n",
       "      <td>1.000000</td>\n",
       "      <td>1.000000</td>\n",
       "      <td>1.000000</td>\n",
       "      <td>0.000000</td>\n",
       "      <td>1.0</td>\n",
       "      <td>1.000000</td>\n",
       "      <td>0.000000</td>\n",
       "      <td>30.000000</td>\n",
       "      <td>170.045092</td>\n",
       "      <td>3.000000</td>\n",
       "      <td>1.767615</td>\n",
       "      <td>1.000000</td>\n",
       "      <td>1.0</td>\n",
       "    </tr>\n",
       "    <tr>\n",
       "      <th>max</th>\n",
       "      <td>1.000000</td>\n",
       "      <td>1.000000</td>\n",
       "      <td>1.000000</td>\n",
       "      <td>1.000000</td>\n",
       "      <td>1.0</td>\n",
       "      <td>12.000000</td>\n",
       "      <td>1.000000</td>\n",
       "      <td>37.000000</td>\n",
       "      <td>468.205360</td>\n",
       "      <td>16.000000</td>\n",
       "      <td>4.447590</td>\n",
       "      <td>1.000000</td>\n",
       "      <td>1.0</td>\n",
       "    </tr>\n",
       "  </tbody>\n",
       "</table>\n",
       "</div>"
      ],
      "text/plain": [
       "            gender  near_location      partner  promo_friends   phone  \\\n",
       "count  1318.000000    1318.000000  1318.000000    1318.000000  1318.0   \n",
       "mean      0.495448       0.670713     0.296662       0.044006     1.0   \n",
       "std       0.500169       0.470133     0.456959       0.205186     0.0   \n",
       "min       0.000000       0.000000     0.000000       0.000000     1.0   \n",
       "25%       0.000000       0.000000     0.000000       0.000000     1.0   \n",
       "50%       0.000000       1.000000     0.000000       0.000000     1.0   \n",
       "75%       1.000000       1.000000     1.000000       0.000000     1.0   \n",
       "max       1.000000       1.000000     1.000000       1.000000     1.0   \n",
       "\n",
       "       contract_period  group_visits          age  \\\n",
       "count      1318.000000   1318.000000  1318.000000   \n",
       "mean          1.946131      0.207891    27.554628   \n",
       "std           2.385920      0.405952     3.002602   \n",
       "min           1.000000      0.000000    18.000000   \n",
       "25%           1.000000      0.000000    25.000000   \n",
       "50%           1.000000      0.000000    28.000000   \n",
       "75%           1.000000      0.000000    30.000000   \n",
       "max          12.000000      1.000000    37.000000   \n",
       "\n",
       "       avg_additional_charges_total     lifetime  \\\n",
       "count                   1318.000000  1318.000000   \n",
       "mean                     118.680416     1.916540   \n",
       "std                       82.341604     2.103405   \n",
       "min                        0.171862     0.000000   \n",
       "25%                       51.197139     1.000000   \n",
       "50%                      107.302082     1.000000   \n",
       "75%                      170.045092     3.000000   \n",
       "max                      468.205360    16.000000   \n",
       "\n",
       "       avg_class_frequency_current_month        churn  labels  \n",
       "count                        1318.000000  1318.000000  1318.0  \n",
       "mean                            1.212660     0.593323     1.0  \n",
       "std                             0.857046     0.491400     0.0  \n",
       "min                             0.000000     0.000000     1.0  \n",
       "25%                             0.559601     0.000000     1.0  \n",
       "50%                             1.140953     1.000000     1.0  \n",
       "75%                             1.767615     1.000000     1.0  \n",
       "max                             4.447590     1.000000     1.0  "
      ]
     },
     "execution_count": 15,
     "metadata": {},
     "output_type": "execute_result"
    }
   ],
   "source": [
    "print('Group 1')\n",
    "group1 = data[data['labels'] == 1]\n",
    "group1.describe()"
   ]
  },
  {
   "cell_type": "markdown",
   "metadata": {
    "scrolled": false
   },
   "source": [
    "**Group 1** contains 1318 clients. These clients:\n",
    "\n",
    "- in 67% of cases live or work near the club\n",
    "- in 30% of cases work in partner organizations\n",
    "- don't come through friends\n",
    "- always leave their phone number in the system\n",
    "- in 20% of cases go to group classes\n",
    "- 24-31 years old\n",
    "- left in the club an average of 118 rubles for additional services for the entire time\n",
    "- choose short contracts (1.9 months on average)\n",
    "- visit the gym 1.2 times a week \n",
    "- have an average churn rate of 59%"
   ]
  },
  {
   "cell_type": "code",
   "execution_count": 16,
   "metadata": {
    "scrolled": false
   },
   "outputs": [
    {
     "name": "stdout",
     "output_type": "stream",
     "text": [
      "Group 2\n"
     ]
    },
    {
     "data": {
      "text/html": [
       "<div>\n",
       "<style scoped>\n",
       "    .dataframe tbody tr th:only-of-type {\n",
       "        vertical-align: middle;\n",
       "    }\n",
       "\n",
       "    .dataframe tbody tr th {\n",
       "        vertical-align: top;\n",
       "    }\n",
       "\n",
       "    .dataframe thead th {\n",
       "        text-align: right;\n",
       "    }\n",
       "</style>\n",
       "<table border=\"1\" class=\"dataframe\">\n",
       "  <thead>\n",
       "    <tr style=\"text-align: right;\">\n",
       "      <th></th>\n",
       "      <th>gender</th>\n",
       "      <th>near_location</th>\n",
       "      <th>partner</th>\n",
       "      <th>promo_friends</th>\n",
       "      <th>phone</th>\n",
       "      <th>contract_period</th>\n",
       "      <th>group_visits</th>\n",
       "      <th>age</th>\n",
       "      <th>avg_additional_charges_total</th>\n",
       "      <th>lifetime</th>\n",
       "      <th>avg_class_frequency_current_month</th>\n",
       "      <th>churn</th>\n",
       "      <th>labels</th>\n",
       "    </tr>\n",
       "  </thead>\n",
       "  <tbody>\n",
       "    <tr>\n",
       "      <th>count</th>\n",
       "      <td>1243.000000</td>\n",
       "      <td>1243.000000</td>\n",
       "      <td>1243.000000</td>\n",
       "      <td>1243.000000</td>\n",
       "      <td>1243.0</td>\n",
       "      <td>1243.000000</td>\n",
       "      <td>1243.000000</td>\n",
       "      <td>1243.000000</td>\n",
       "      <td>1243.000000</td>\n",
       "      <td>1243.000000</td>\n",
       "      <td>1243.000000</td>\n",
       "      <td>1243.000000</td>\n",
       "      <td>1243.0</td>\n",
       "    </tr>\n",
       "    <tr>\n",
       "      <th>mean</th>\n",
       "      <td>0.526951</td>\n",
       "      <td>0.921963</td>\n",
       "      <td>0.370072</td>\n",
       "      <td>0.004023</td>\n",
       "      <td>1.0</td>\n",
       "      <td>5.893805</td>\n",
       "      <td>0.535800</td>\n",
       "      <td>30.572003</td>\n",
       "      <td>173.536262</td>\n",
       "      <td>5.133548</td>\n",
       "      <td>2.253940</td>\n",
       "      <td>0.032180</td>\n",
       "      <td>2.0</td>\n",
       "    </tr>\n",
       "    <tr>\n",
       "      <th>std</th>\n",
       "      <td>0.499474</td>\n",
       "      <td>0.268338</td>\n",
       "      <td>0.483018</td>\n",
       "      <td>0.063321</td>\n",
       "      <td>0.0</td>\n",
       "      <td>4.739934</td>\n",
       "      <td>0.498917</td>\n",
       "      <td>2.937391</td>\n",
       "      <td>102.483843</td>\n",
       "      <td>4.236547</td>\n",
       "      <td>0.986510</td>\n",
       "      <td>0.176549</td>\n",
       "      <td>0.0</td>\n",
       "    </tr>\n",
       "    <tr>\n",
       "      <th>min</th>\n",
       "      <td>0.000000</td>\n",
       "      <td>0.000000</td>\n",
       "      <td>0.000000</td>\n",
       "      <td>0.000000</td>\n",
       "      <td>1.0</td>\n",
       "      <td>1.000000</td>\n",
       "      <td>0.000000</td>\n",
       "      <td>21.000000</td>\n",
       "      <td>0.510545</td>\n",
       "      <td>0.000000</td>\n",
       "      <td>0.000000</td>\n",
       "      <td>0.000000</td>\n",
       "      <td>2.0</td>\n",
       "    </tr>\n",
       "    <tr>\n",
       "      <th>25%</th>\n",
       "      <td>0.000000</td>\n",
       "      <td>1.000000</td>\n",
       "      <td>0.000000</td>\n",
       "      <td>0.000000</td>\n",
       "      <td>1.0</td>\n",
       "      <td>1.000000</td>\n",
       "      <td>0.000000</td>\n",
       "      <td>29.000000</td>\n",
       "      <td>93.239970</td>\n",
       "      <td>2.000000</td>\n",
       "      <td>1.540254</td>\n",
       "      <td>0.000000</td>\n",
       "      <td>2.0</td>\n",
       "    </tr>\n",
       "    <tr>\n",
       "      <th>50%</th>\n",
       "      <td>1.000000</td>\n",
       "      <td>1.000000</td>\n",
       "      <td>0.000000</td>\n",
       "      <td>0.000000</td>\n",
       "      <td>1.0</td>\n",
       "      <td>6.000000</td>\n",
       "      <td>1.000000</td>\n",
       "      <td>31.000000</td>\n",
       "      <td>165.344328</td>\n",
       "      <td>4.000000</td>\n",
       "      <td>2.322307</td>\n",
       "      <td>0.000000</td>\n",
       "      <td>2.0</td>\n",
       "    </tr>\n",
       "    <tr>\n",
       "      <th>75%</th>\n",
       "      <td>1.000000</td>\n",
       "      <td>1.000000</td>\n",
       "      <td>1.000000</td>\n",
       "      <td>0.000000</td>\n",
       "      <td>1.0</td>\n",
       "      <td>12.000000</td>\n",
       "      <td>1.000000</td>\n",
       "      <td>33.000000</td>\n",
       "      <td>241.939999</td>\n",
       "      <td>7.000000</td>\n",
       "      <td>2.936291</td>\n",
       "      <td>0.000000</td>\n",
       "      <td>2.0</td>\n",
       "    </tr>\n",
       "    <tr>\n",
       "      <th>max</th>\n",
       "      <td>1.000000</td>\n",
       "      <td>1.000000</td>\n",
       "      <td>1.000000</td>\n",
       "      <td>1.000000</td>\n",
       "      <td>1.0</td>\n",
       "      <td>12.000000</td>\n",
       "      <td>1.000000</td>\n",
       "      <td>41.000000</td>\n",
       "      <td>552.590740</td>\n",
       "      <td>31.000000</td>\n",
       "      <td>5.458295</td>\n",
       "      <td>1.000000</td>\n",
       "      <td>2.0</td>\n",
       "    </tr>\n",
       "  </tbody>\n",
       "</table>\n",
       "</div>"
      ],
      "text/plain": [
       "            gender  near_location      partner  promo_friends   phone  \\\n",
       "count  1243.000000    1243.000000  1243.000000    1243.000000  1243.0   \n",
       "mean      0.526951       0.921963     0.370072       0.004023     1.0   \n",
       "std       0.499474       0.268338     0.483018       0.063321     0.0   \n",
       "min       0.000000       0.000000     0.000000       0.000000     1.0   \n",
       "25%       0.000000       1.000000     0.000000       0.000000     1.0   \n",
       "50%       1.000000       1.000000     0.000000       0.000000     1.0   \n",
       "75%       1.000000       1.000000     1.000000       0.000000     1.0   \n",
       "max       1.000000       1.000000     1.000000       1.000000     1.0   \n",
       "\n",
       "       contract_period  group_visits          age  \\\n",
       "count      1243.000000   1243.000000  1243.000000   \n",
       "mean          5.893805      0.535800    30.572003   \n",
       "std           4.739934      0.498917     2.937391   \n",
       "min           1.000000      0.000000    21.000000   \n",
       "25%           1.000000      0.000000    29.000000   \n",
       "50%           6.000000      1.000000    31.000000   \n",
       "75%          12.000000      1.000000    33.000000   \n",
       "max          12.000000      1.000000    41.000000   \n",
       "\n",
       "       avg_additional_charges_total     lifetime  \\\n",
       "count                   1243.000000  1243.000000   \n",
       "mean                     173.536262     5.133548   \n",
       "std                      102.483843     4.236547   \n",
       "min                        0.510545     0.000000   \n",
       "25%                       93.239970     2.000000   \n",
       "50%                      165.344328     4.000000   \n",
       "75%                      241.939999     7.000000   \n",
       "max                      552.590740    31.000000   \n",
       "\n",
       "       avg_class_frequency_current_month        churn  labels  \n",
       "count                        1243.000000  1243.000000  1243.0  \n",
       "mean                            2.253940     0.032180     2.0  \n",
       "std                             0.986510     0.176549     0.0  \n",
       "min                             0.000000     0.000000     2.0  \n",
       "25%                             1.540254     0.000000     2.0  \n",
       "50%                             2.322307     0.000000     2.0  \n",
       "75%                             2.936291     0.000000     2.0  \n",
       "max                             5.458295     1.000000     2.0  "
      ]
     },
     "execution_count": 16,
     "metadata": {},
     "output_type": "execute_result"
    }
   ],
   "source": [
    "print('Group 2')\n",
    "group2 = data[data['labels'] == 2]\n",
    "group2.describe()"
   ]
  },
  {
   "cell_type": "markdown",
   "metadata": {
    "scrolled": false
   },
   "source": [
    "**Group 2** contains 1243 loyal clients. These clients:\n",
    "\n",
    "- in 92% of cases live or work near the club\n",
    "- in 37% of cases work in partner organizations\n",
    "- don't come through friends\n",
    "- always leave their phone number in the system\n",
    "- in 53% of cases go to group classes\n",
    "- 28-33 years old\n",
    "- left in the club an average of 173 rubles for additional services for the entire time\n",
    "- choose long contracts (5.89 months on average)\n",
    "- visit the gym 2.25 times a week \n",
    "- don't leave the club"
   ]
  },
  {
   "cell_type": "code",
   "execution_count": 17,
   "metadata": {
    "scrolled": false
   },
   "outputs": [
    {
     "name": "stdout",
     "output_type": "stream",
     "text": [
      "Group 3\n"
     ]
    },
    {
     "data": {
      "text/html": [
       "<div>\n",
       "<style scoped>\n",
       "    .dataframe tbody tr th:only-of-type {\n",
       "        vertical-align: middle;\n",
       "    }\n",
       "\n",
       "    .dataframe tbody tr th {\n",
       "        vertical-align: top;\n",
       "    }\n",
       "\n",
       "    .dataframe thead th {\n",
       "        text-align: right;\n",
       "    }\n",
       "</style>\n",
       "<table border=\"1\" class=\"dataframe\">\n",
       "  <thead>\n",
       "    <tr style=\"text-align: right;\">\n",
       "      <th></th>\n",
       "      <th>gender</th>\n",
       "      <th>near_location</th>\n",
       "      <th>partner</th>\n",
       "      <th>promo_friends</th>\n",
       "      <th>phone</th>\n",
       "      <th>contract_period</th>\n",
       "      <th>group_visits</th>\n",
       "      <th>age</th>\n",
       "      <th>avg_additional_charges_total</th>\n",
       "      <th>lifetime</th>\n",
       "      <th>avg_class_frequency_current_month</th>\n",
       "      <th>churn</th>\n",
       "      <th>labels</th>\n",
       "    </tr>\n",
       "  </thead>\n",
       "  <tbody>\n",
       "    <tr>\n",
       "      <th>count</th>\n",
       "      <td>1053.000000</td>\n",
       "      <td>1053.000000</td>\n",
       "      <td>1053.000000</td>\n",
       "      <td>1053.0</td>\n",
       "      <td>1053.0</td>\n",
       "      <td>1053.000000</td>\n",
       "      <td>1053.000000</td>\n",
       "      <td>1053.000000</td>\n",
       "      <td>1053.000000</td>\n",
       "      <td>1053.000000</td>\n",
       "      <td>1053.000000</td>\n",
       "      <td>1053.000000</td>\n",
       "      <td>1053.0</td>\n",
       "    </tr>\n",
       "    <tr>\n",
       "      <th>mean</th>\n",
       "      <td>0.504274</td>\n",
       "      <td>0.966762</td>\n",
       "      <td>0.867996</td>\n",
       "      <td>1.0</td>\n",
       "      <td>1.0</td>\n",
       "      <td>6.638177</td>\n",
       "      <td>0.516619</td>\n",
       "      <td>29.544160</td>\n",
       "      <td>151.931807</td>\n",
       "      <td>4.245964</td>\n",
       "      <td>1.902015</td>\n",
       "      <td>0.129155</td>\n",
       "      <td>3.0</td>\n",
       "    </tr>\n",
       "    <tr>\n",
       "      <th>std</th>\n",
       "      <td>0.500219</td>\n",
       "      <td>0.179344</td>\n",
       "      <td>0.338656</td>\n",
       "      <td>0.0</td>\n",
       "      <td>0.0</td>\n",
       "      <td>4.749739</td>\n",
       "      <td>0.499961</td>\n",
       "      <td>3.080849</td>\n",
       "      <td>96.430625</td>\n",
       "      <td>3.736992</td>\n",
       "      <td>1.038582</td>\n",
       "      <td>0.335531</td>\n",
       "      <td>0.0</td>\n",
       "    </tr>\n",
       "    <tr>\n",
       "      <th>min</th>\n",
       "      <td>0.000000</td>\n",
       "      <td>0.000000</td>\n",
       "      <td>0.000000</td>\n",
       "      <td>1.0</td>\n",
       "      <td>1.0</td>\n",
       "      <td>1.000000</td>\n",
       "      <td>0.000000</td>\n",
       "      <td>20.000000</td>\n",
       "      <td>0.148205</td>\n",
       "      <td>0.000000</td>\n",
       "      <td>0.000000</td>\n",
       "      <td>0.000000</td>\n",
       "      <td>3.0</td>\n",
       "    </tr>\n",
       "    <tr>\n",
       "      <th>25%</th>\n",
       "      <td>0.000000</td>\n",
       "      <td>1.000000</td>\n",
       "      <td>1.000000</td>\n",
       "      <td>1.0</td>\n",
       "      <td>1.0</td>\n",
       "      <td>1.000000</td>\n",
       "      <td>0.000000</td>\n",
       "      <td>27.000000</td>\n",
       "      <td>71.772789</td>\n",
       "      <td>1.000000</td>\n",
       "      <td>1.113919</td>\n",
       "      <td>0.000000</td>\n",
       "      <td>3.0</td>\n",
       "    </tr>\n",
       "    <tr>\n",
       "      <th>50%</th>\n",
       "      <td>1.000000</td>\n",
       "      <td>1.000000</td>\n",
       "      <td>1.000000</td>\n",
       "      <td>1.0</td>\n",
       "      <td>1.0</td>\n",
       "      <td>6.000000</td>\n",
       "      <td>1.000000</td>\n",
       "      <td>30.000000</td>\n",
       "      <td>146.288462</td>\n",
       "      <td>3.000000</td>\n",
       "      <td>1.884468</td>\n",
       "      <td>0.000000</td>\n",
       "      <td>3.0</td>\n",
       "    </tr>\n",
       "    <tr>\n",
       "      <th>75%</th>\n",
       "      <td>1.000000</td>\n",
       "      <td>1.000000</td>\n",
       "      <td>1.000000</td>\n",
       "      <td>1.0</td>\n",
       "      <td>1.0</td>\n",
       "      <td>12.000000</td>\n",
       "      <td>1.000000</td>\n",
       "      <td>32.000000</td>\n",
       "      <td>219.626145</td>\n",
       "      <td>6.000000</td>\n",
       "      <td>2.632663</td>\n",
       "      <td>0.000000</td>\n",
       "      <td>3.0</td>\n",
       "    </tr>\n",
       "    <tr>\n",
       "      <th>max</th>\n",
       "      <td>1.000000</td>\n",
       "      <td>1.000000</td>\n",
       "      <td>1.000000</td>\n",
       "      <td>1.0</td>\n",
       "      <td>1.0</td>\n",
       "      <td>12.000000</td>\n",
       "      <td>1.000000</td>\n",
       "      <td>38.000000</td>\n",
       "      <td>460.904008</td>\n",
       "      <td>24.000000</td>\n",
       "      <td>6.146783</td>\n",
       "      <td>1.000000</td>\n",
       "      <td>3.0</td>\n",
       "    </tr>\n",
       "  </tbody>\n",
       "</table>\n",
       "</div>"
      ],
      "text/plain": [
       "            gender  near_location      partner  promo_friends   phone  \\\n",
       "count  1053.000000    1053.000000  1053.000000         1053.0  1053.0   \n",
       "mean      0.504274       0.966762     0.867996            1.0     1.0   \n",
       "std       0.500219       0.179344     0.338656            0.0     0.0   \n",
       "min       0.000000       0.000000     0.000000            1.0     1.0   \n",
       "25%       0.000000       1.000000     1.000000            1.0     1.0   \n",
       "50%       1.000000       1.000000     1.000000            1.0     1.0   \n",
       "75%       1.000000       1.000000     1.000000            1.0     1.0   \n",
       "max       1.000000       1.000000     1.000000            1.0     1.0   \n",
       "\n",
       "       contract_period  group_visits          age  \\\n",
       "count      1053.000000   1053.000000  1053.000000   \n",
       "mean          6.638177      0.516619    29.544160   \n",
       "std           4.749739      0.499961     3.080849   \n",
       "min           1.000000      0.000000    20.000000   \n",
       "25%           1.000000      0.000000    27.000000   \n",
       "50%           6.000000      1.000000    30.000000   \n",
       "75%          12.000000      1.000000    32.000000   \n",
       "max          12.000000      1.000000    38.000000   \n",
       "\n",
       "       avg_additional_charges_total     lifetime  \\\n",
       "count                   1053.000000  1053.000000   \n",
       "mean                     151.931807     4.245964   \n",
       "std                       96.430625     3.736992   \n",
       "min                        0.148205     0.000000   \n",
       "25%                       71.772789     1.000000   \n",
       "50%                      146.288462     3.000000   \n",
       "75%                      219.626145     6.000000   \n",
       "max                      460.904008    24.000000   \n",
       "\n",
       "       avg_class_frequency_current_month        churn  labels  \n",
       "count                        1053.000000  1053.000000  1053.0  \n",
       "mean                            1.902015     0.129155     3.0  \n",
       "std                             1.038582     0.335531     0.0  \n",
       "min                             0.000000     0.000000     3.0  \n",
       "25%                             1.113919     0.000000     3.0  \n",
       "50%                             1.884468     0.000000     3.0  \n",
       "75%                             2.632663     0.000000     3.0  \n",
       "max                             6.146783     1.000000     3.0  "
      ]
     },
     "execution_count": 17,
     "metadata": {},
     "output_type": "execute_result"
    }
   ],
   "source": [
    "print('Group 3')\n",
    "group3 = data[data['labels'] == 3]\n",
    "group3.describe()"
   ]
  },
  {
   "cell_type": "markdown",
   "metadata": {
    "scrolled": false
   },
   "source": [
    "*Conclusion:* Group 3 contains 1053 clients. These clients:\n",
    "- in 96% of cases live or work near the club\n",
    "- in 87% of cases work in partner organizations\n",
    "- in 100% of cases came through friends\n",
    "- always leave their phone number in the system\n",
    "- in 51% of cases they go to group classes\n",
    "- 26-33 years old\n",
    "- left in the club an average of 151 rubles for additional services for the entire time\n",
    "- choose long-term contracts (6.6 months on average)\n",
    "- visit the gym 2 times a week\n",
    "- have an average churn rate of 13%"
   ]
  },
  {
   "cell_type": "code",
   "execution_count": 22,
   "metadata": {
    "scrolled": true
   },
   "outputs": [
    {
     "data": {
      "image/png": "[encoded data removed]",
      "text/plain": [
       "<Figure size 1080x720 with 1 Axes>"
      ]
     },
     "metadata": {},
     "output_type": "display_data"
    },
    {
     "data": {
      "image/png": "[encoded data removed]",
      "text/plain": [
       "<Figure size 1080x720 with 1 Axes>"
      ]
     },
     "metadata": {},
     "output_type": "display_data"
    },
    {
     "data": {
      "image/png": "[encoded data removed]",
      "text/plain": [
       "<Figure size 1080x720 with 1 Axes>"
      ]
     },
     "metadata": {},
     "output_type": "display_data"
    },
    {
     "data": {
      "image/png": "[encoded data removed]",
      "text/plain": [
       "<Figure size 1080x720 with 1 Axes>"
      ]
     },
     "metadata": {},
     "output_type": "display_data"
    }
   ],
   "source": [
    "#let's build joint histograms of features distributions (churn/non-churn)\n",
    "sns.set(style=\"white\", palette=\"tab10\", color_codes=True)\n",
    "sns.set(rc={'figure.figsize':(15,10)})\n",
    "\n",
    "for col in ['age','lifetime','avg_additional_charges_total','avg_class_frequency_current_month']:\n",
    "    sns.distplot(group0[col], kde=False, color='blue', bins=20)\n",
    "    sns.distplot(group1[col], kde=False, color='orange', bins=20)\n",
    "    sns.distplot(group2[col], kde=False, color='green', bins=20)\n",
    "    sns.distplot(group3[col], kde=False, color='red', bins=20)\n",
    "    plt.legend(labels=[\"group0\",\"group1\",\"group2\",\"group3\"])\n",
    "    plt.show()"
   ]
  },
  {
   "cell_type": "markdown",
   "metadata": {
    "scrolled": false
   },
   "source": [
    "- 3rd group customers are much younger than the others\n",
    "- Clients of the 2nd group pay more for additional services than others\n",
    "- Clients of groups 2 and 3 visit the gym most often"
   ]
  },
  {
   "cell_type": "code",
   "execution_count": 23,
   "metadata": {
    "scrolled": true
   },
   "outputs": [
    {
     "data": {
      "image/png": "[encoded data removed]",
      "text/plain": [
       "<Figure size 720x360 with 1 Axes>"
      ]
     },
     "metadata": {},
     "output_type": "display_data"
    },
    {
     "data": {
      "image/png": "[encoded data removed]",
      "text/plain": [
       "<Figure size 720x360 with 1 Axes>"
      ]
     },
     "metadata": {},
     "output_type": "display_data"
    },
    {
     "data": {
      "image/png": "[encoded data removed]",
      "text/plain": [
       "<Figure size 720x360 with 1 Axes>"
      ]
     },
     "metadata": {},
     "output_type": "display_data"
    },
    {
     "data": {
      "image/png": "[encoded data removed]",
      "text/plain": [
       "<Figure size 720x360 with 1 Axes>"
      ]
     },
     "metadata": {},
     "output_type": "display_data"
    },
    {
     "data": {
      "image/png": "[encoded data removed]",
      "text/plain": [
       "<Figure size 720x360 with 1 Axes>"
      ]
     },
     "metadata": {},
     "output_type": "display_data"
    },
    {
     "data": {
      "image/png": "[encoded data removed]",
      "text/plain": [
       "<Figure size 720x360 with 1 Axes>"
      ]
     },
     "metadata": {},
     "output_type": "display_data"
    }
   ],
   "source": [
    "#let's build joint bar charts of binary features (churn/non-churn)\n",
    "sns.set(rc={'figure.figsize':(10,5)})\n",
    "\n",
    "for col in ['near_location','partner','promo_friends','phone','group_visits', 'contract_period']:\n",
    "    sns.barplot(x='labels', y=col, data=data, estimator = np.mean) \n",
    "    plt.show()   "
   ]
  },
  {
   "cell_type": "markdown",
   "metadata": {
    "scrolled": false
   },
   "source": [
    "- Group 1 customers tend to sign much shorter contracts and don't go to group trainings, they never leave their phone numbers and less likely to live or work nearby or to work for a partner company.\n",
    "- Group 0 customers sign long contracts, never leave their phone number, don't come through friends, are likely to live or work nearby.\n",
    "- Group 2 customers sign long contracts, always leave their phone number, don't come through friends, are likely to live or work nearby.\n",
    "- Group 3 customers always leave their phone number, and almost always come through friends or work, leave or work nearby, have long contracts and visit the group trainings in 50% of cases."
   ]
  },
  {
   "cell_type": "code",
   "execution_count": null,
   "metadata": {},
   "outputs": [],
   "source": [
    "print(data.groupby('labels')['churn'].mean())"
   ]
  },
  {
   "cell_type": "markdown",
   "metadata": {
    "scrolled": false
   },
   "source": [
    "The most loayl ones are the customers from Group 2. They always leave their phone numbers, live or work nearby, don't come through friends, take longer contracts and in 50% of cases visit group trainings. "
   ]
  },
  {
   "cell_type": "markdown",
   "metadata": {},
   "source": [
    "## 6. Conclusion and Recomendations"
   ]
  },
  {
   "cell_type": "markdown",
   "metadata": {
    "scrolled": false
   },
   "source": [
    "Lifetime, attendance, contract period and age affect churn the most.\n",
    "\n",
    "The longer the client has been with the club, the higher his average attendance for the last month and the higher the age, the lower the churn.\n",
    "\n",
    "Churn is also affected by group activities and the presence of friends training at the club. Clients who attend group classes are less likely to leave, as well as clients who are brought to the club by relatives, friends and acquaintances.\n",
    "\n",
    "Gender, the presence of a telephone almost do not affect the churn (as we suggested above), as well as the distance from the club and affiliate programs.\n",
    "\n",
    "I would focus on the following to increase customer retention:\n",
    "- introduce a promotion for unlimited annual subscriptions (annual subscriptions should be much more attractive than subscriptions for 1 and 6 months);\n",
    "- send automatic reminders to those who visit rarely (or stopped visiting) the gym in the last month, offer the option of free membership freeze if necessary\n",
    "- collect feedback from regular customers and work on maintain the level of service (clients who have been visiting the club for a long time are less likely to leave the club)\n",
    "- expand the network of group classes (clients who attend group classes leave less often)\n",
    "- introduce a 'refer a friend' promotion with discounts for both the referred friend and the 'old' client (for example, add 1-2 free additional months to the annual subscription for both)"
   ]
  },
  {
   "cell_type": "code",
   "execution_count": null,
   "metadata": {},
   "outputs": [],
   "source": []
  }
 ],
 "metadata": {
  "ExecuteTimeLog": [
   {
    "duration": 418,
    "start_time": "2021-12-21T19:35:13.283Z"
   },
   {
    "duration": 2392,
    "start_time": "2021-12-21T19:35:15.905Z"
   },
   {
    "duration": 244,
    "start_time": "2021-12-21T19:35:19.133Z"
   },
   {
    "duration": 58,
    "start_time": "2021-12-21T19:35:39.770Z"
   },
   {
    "duration": 1707,
    "start_time": "2021-12-22T14:49:05.836Z"
   },
   {
    "duration": 4,
    "start_time": "2021-12-22T14:49:13.042Z"
   },
   {
    "duration": 329,
    "start_time": "2021-12-22T15:03:40.606Z"
   },
   {
    "duration": 46,
    "start_time": "2021-12-22T15:06:32.452Z"
   },
   {
    "duration": 67,
    "start_time": "2021-12-22T15:07:35.270Z"
   },
   {
    "duration": 68,
    "start_time": "2021-12-22T15:07:37.570Z"
   },
   {
    "duration": 1682,
    "start_time": "2021-12-22T15:09:07.239Z"
   },
   {
    "duration": 1635,
    "start_time": "2021-12-22T15:09:20.137Z"
   },
   {
    "duration": 6650,
    "start_time": "2021-12-22T15:09:27.907Z"
   },
   {
    "duration": 1107,
    "start_time": "2021-12-22T15:10:01.889Z"
   },
   {
    "duration": 1187,
    "start_time": "2021-12-22T15:10:16.678Z"
   },
   {
    "duration": 1134,
    "start_time": "2021-12-22T15:10:31.799Z"
   },
   {
    "duration": 1327,
    "start_time": "2021-12-22T15:10:50.626Z"
   },
   {
    "duration": 1092,
    "start_time": "2021-12-22T15:10:58.310Z"
   },
   {
    "duration": 1534,
    "start_time": "2021-12-22T15:11:05.993Z"
   },
   {
    "duration": 1341,
    "start_time": "2021-12-22T15:11:19.121Z"
   },
   {
    "duration": 844,
    "start_time": "2021-12-22T15:21:30.276Z"
   },
   {
    "duration": 1485,
    "start_time": "2021-12-22T15:21:41.759Z"
   },
   {
    "duration": 748,
    "start_time": "2021-12-22T15:21:47.104Z"
   },
   {
    "duration": 676,
    "start_time": "2021-12-22T15:22:04.640Z"
   },
   {
    "duration": 4693,
    "start_time": "2021-12-22T15:22:30.467Z"
   },
   {
    "duration": 655,
    "start_time": "2021-12-22T15:23:14.652Z"
   },
   {
    "duration": 693,
    "start_time": "2021-12-22T15:23:22.937Z"
   },
   {
    "duration": 708,
    "start_time": "2021-12-22T15:24:16.069Z"
   },
   {
    "duration": 4583,
    "start_time": "2021-12-22T15:24:21.329Z"
   },
   {
    "duration": 4663,
    "start_time": "2021-12-22T15:24:48.288Z"
   },
   {
    "duration": 564,
    "start_time": "2021-12-22T15:25:08.295Z"
   },
   {
    "duration": 4478,
    "start_time": "2021-12-22T15:25:16.564Z"
   },
   {
    "duration": 4585,
    "start_time": "2021-12-22T15:25:25.182Z"
   },
   {
    "duration": 337,
    "start_time": "2021-12-22T15:28:30.166Z"
   },
   {
    "duration": 386,
    "start_time": "2021-12-22T15:29:19.123Z"
   },
   {
    "duration": 6847,
    "start_time": "2021-12-22T15:29:26.206Z"
   },
   {
    "duration": 6921,
    "start_time": "2021-12-22T15:30:51.823Z"
   },
   {
    "duration": 379,
    "start_time": "2021-12-22T15:31:56.746Z"
   },
   {
    "duration": 16,
    "start_time": "2021-12-22T15:32:22.339Z"
   },
   {
    "duration": 2004,
    "start_time": "2021-12-22T15:44:51.974Z"
   },
   {
    "duration": 55,
    "start_time": "2021-12-22T15:44:53.980Z"
   },
   {
    "duration": 15,
    "start_time": "2021-12-22T15:44:54.038Z"
   },
   {
    "duration": 71,
    "start_time": "2021-12-22T15:44:54.056Z"
   },
   {
    "duration": 45,
    "start_time": "2021-12-22T15:44:54.129Z"
   },
   {
    "duration": 75,
    "start_time": "2021-12-22T15:44:54.176Z"
   },
   {
    "duration": 7453,
    "start_time": "2021-12-22T15:44:54.253Z"
   },
   {
    "duration": 1368,
    "start_time": "2021-12-22T15:45:01.710Z"
   },
   {
    "duration": 3415,
    "start_time": "2021-12-22T15:58:33.322Z"
   },
   {
    "duration": 1222,
    "start_time": "2021-12-22T15:58:44.456Z"
   },
   {
    "duration": 3660,
    "start_time": "2021-12-22T15:58:48.518Z"
   },
   {
    "duration": 1499,
    "start_time": "2021-12-22T16:01:52.508Z"
   },
   {
    "duration": 598,
    "start_time": "2021-12-22T16:03:46.740Z"
   },
   {
    "duration": 150,
    "start_time": "2021-12-22T16:07:20.166Z"
   },
   {
    "duration": 84262,
    "start_time": "2021-12-22T16:08:18.502Z"
   },
   {
    "duration": 286,
    "start_time": "2021-12-22T16:10:17.241Z"
   },
   {
    "duration": 392,
    "start_time": "2021-12-22T16:11:15.244Z"
   },
   {
    "duration": 2102,
    "start_time": "2021-12-22T16:11:22.716Z"
   },
   {
    "duration": 380,
    "start_time": "2021-12-22T17:51:24.450Z"
   },
   {
    "duration": 372,
    "start_time": "2021-12-22T17:51:33.037Z"
   },
   {
    "duration": 4,
    "start_time": "2021-12-22T17:52:05.392Z"
   },
   {
    "duration": 45,
    "start_time": "2021-12-22T17:52:07.673Z"
   },
   {
    "duration": 338,
    "start_time": "2021-12-22T17:52:13.352Z"
   },
   {
    "duration": 1695,
    "start_time": "2021-12-22T17:52:20.995Z"
   },
   {
    "duration": 358,
    "start_time": "2021-12-22T17:56:13.546Z"
   },
   {
    "duration": 550,
    "start_time": "2021-12-22T17:56:23.916Z"
   },
   {
    "duration": 1648,
    "start_time": "2021-12-22T17:56:44.861Z"
   },
   {
    "duration": 2186,
    "start_time": "2021-12-22T17:57:22.368Z"
   },
   {
    "duration": 1623,
    "start_time": "2021-12-22T17:58:57.879Z"
   },
   {
    "duration": 2167,
    "start_time": "2021-12-22T18:10:32.632Z"
   },
   {
    "duration": 2163,
    "start_time": "2021-12-22T18:10:50.759Z"
   },
   {
    "duration": 1731,
    "start_time": "2021-12-22T18:11:00.266Z"
   },
   {
    "duration": 996,
    "start_time": "2021-12-22T18:11:17.980Z"
   },
   {
    "duration": 2759,
    "start_time": "2021-12-22T18:12:53.894Z"
   },
   {
    "duration": 1310,
    "start_time": "2021-12-22T18:13:38.044Z"
   },
   {
    "duration": 391,
    "start_time": "2021-12-22T18:38:12.012Z"
   },
   {
    "duration": 357,
    "start_time": "2021-12-22T18:38:19.779Z"
   },
   {
    "duration": 5,
    "start_time": "2021-12-22T18:40:38.093Z"
   },
   {
    "duration": 572,
    "start_time": "2021-12-22T18:40:43.995Z"
   },
   {
    "duration": 335,
    "start_time": "2021-12-22T18:41:32.194Z"
   },
   {
    "duration": 393,
    "start_time": "2021-12-22T18:42:26.063Z"
   },
   {
    "duration": 5,
    "start_time": "2021-12-22T18:43:05.185Z"
   },
   {
    "duration": 727,
    "start_time": "2021-12-22T18:43:09.358Z"
   },
   {
    "duration": 517,
    "start_time": "2021-12-22T18:44:05.325Z"
   },
   {
    "duration": 4,
    "start_time": "2021-12-22T18:53:50.282Z"
   },
   {
    "duration": 1620,
    "start_time": "2021-12-26T18:25:26.385Z"
   },
   {
    "duration": 71,
    "start_time": "2021-12-26T18:25:28.007Z"
   },
   {
    "duration": 61,
    "start_time": "2021-12-26T18:25:28.080Z"
   },
   {
    "duration": 69,
    "start_time": "2021-12-26T18:25:28.143Z"
   },
   {
    "duration": 45,
    "start_time": "2021-12-26T18:25:28.213Z"
   },
   {
    "duration": 1549,
    "start_time": "2021-12-26T18:25:28.259Z"
   },
   {
    "duration": 1766,
    "start_time": "2021-12-26T18:25:29.811Z"
   },
   {
    "duration": 1425,
    "start_time": "2021-12-26T18:25:31.580Z"
   },
   {
    "duration": 526,
    "start_time": "2021-12-26T18:25:33.008Z"
   },
   {
    "duration": 1457,
    "start_time": "2021-12-26T18:25:33.536Z"
   },
   {
    "duration": 2540,
    "start_time": "2021-12-26T18:25:34.996Z"
   },
   {
    "duration": 2675,
    "start_time": "2021-12-26T18:25:37.537Z"
   },
   {
    "duration": 2822,
    "start_time": "2021-12-26T18:25:40.214Z"
   },
   {
    "duration": 2734,
    "start_time": "2021-12-26T18:25:43.038Z"
   },
   {
    "duration": 2604,
    "start_time": "2021-12-26T18:25:45.774Z"
   },
   {
    "duration": 337,
    "start_time": "2021-12-26T18:27:49.673Z"
   },
   {
    "duration": 6,
    "start_time": "2021-12-26T18:28:03.756Z"
   },
   {
    "duration": 199,
    "start_time": "2021-12-26T18:30:36.587Z"
   },
   {
    "duration": 202,
    "start_time": "2021-12-26T18:30:51.378Z"
   },
   {
    "duration": 194,
    "start_time": "2021-12-26T18:31:23.299Z"
   },
   {
    "duration": 74,
    "start_time": "2021-12-26T18:33:06.345Z"
   },
   {
    "duration": 215,
    "start_time": "2021-12-26T18:33:27.838Z"
   },
   {
    "duration": 256,
    "start_time": "2021-12-26T18:33:41.158Z"
   },
   {
    "duration": 1525,
    "start_time": "2021-12-26T18:34:08.061Z"
   },
   {
    "duration": 41,
    "start_time": "2021-12-26T18:34:09.588Z"
   },
   {
    "duration": 44,
    "start_time": "2021-12-26T18:34:09.631Z"
   },
   {
    "duration": 51,
    "start_time": "2021-12-26T18:34:09.677Z"
   },
   {
    "duration": 44,
    "start_time": "2021-12-26T18:34:09.729Z"
   },
   {
    "duration": 1502,
    "start_time": "2021-12-26T18:34:09.791Z"
   },
   {
    "duration": 1643,
    "start_time": "2021-12-26T18:34:11.295Z"
   },
   {
    "duration": 1339,
    "start_time": "2021-12-26T18:34:12.941Z"
   },
   {
    "duration": 562,
    "start_time": "2021-12-26T18:34:14.283Z"
   },
   {
    "duration": 414,
    "start_time": "2021-12-26T18:34:14.847Z"
   },
   {
    "duration": 833,
    "start_time": "2021-12-26T18:34:14.429Z"
   },
   {
    "duration": 827,
    "start_time": "2021-12-26T18:34:14.436Z"
   },
   {
    "duration": 796,
    "start_time": "2021-12-26T18:34:14.468Z"
   },
   {
    "duration": 793,
    "start_time": "2021-12-26T18:34:14.472Z"
   },
   {
    "duration": 791,
    "start_time": "2021-12-26T18:34:14.475Z"
   },
   {
    "duration": 790,
    "start_time": "2021-12-26T18:34:14.477Z"
   },
   {
    "duration": 788,
    "start_time": "2021-12-26T18:34:14.480Z"
   },
   {
    "duration": 1451,
    "start_time": "2021-12-26T18:38:10.760Z"
   },
   {
    "duration": 43,
    "start_time": "2021-12-26T18:38:12.213Z"
   },
   {
    "duration": 54,
    "start_time": "2021-12-26T18:38:12.258Z"
   },
   {
    "duration": 46,
    "start_time": "2021-12-26T18:38:12.313Z"
   },
   {
    "duration": 67,
    "start_time": "2021-12-26T18:38:12.360Z"
   },
   {
    "duration": 1518,
    "start_time": "2021-12-26T18:38:12.428Z"
   },
   {
    "duration": 1706,
    "start_time": "2021-12-26T18:38:13.947Z"
   },
   {
    "duration": 1386,
    "start_time": "2021-12-26T18:38:15.655Z"
   },
   {
    "duration": 569,
    "start_time": "2021-12-26T18:38:17.042Z"
   },
   {
    "duration": 384,
    "start_time": "2021-12-26T18:38:17.612Z"
   },
   {
    "duration": 767,
    "start_time": "2021-12-26T18:38:17.231Z"
   },
   {
    "duration": 661,
    "start_time": "2021-12-26T18:38:17.338Z"
   },
   {
    "duration": 660,
    "start_time": "2021-12-26T18:38:17.340Z"
   },
   {
    "duration": 1409,
    "start_time": "2021-12-26T18:38:21.089Z"
   },
   {
    "duration": 4829,
    "start_time": "2021-12-26T18:38:24.620Z"
   },
   {
    "duration": 175,
    "start_time": "2021-12-26T18:39:08.471Z"
   },
   {
    "duration": 173,
    "start_time": "2021-12-26T18:39:43.452Z"
   },
   {
    "duration": 4489,
    "start_time": "2021-12-26T18:39:48.526Z"
   },
   {
    "duration": 1554,
    "start_time": "2021-12-26T18:41:31.066Z"
   },
   {
    "duration": 43,
    "start_time": "2021-12-26T18:41:32.622Z"
   },
   {
    "duration": 57,
    "start_time": "2021-12-26T18:41:32.667Z"
   },
   {
    "duration": 44,
    "start_time": "2021-12-26T18:41:32.726Z"
   },
   {
    "duration": 57,
    "start_time": "2021-12-26T18:41:32.772Z"
   },
   {
    "duration": 1514,
    "start_time": "2021-12-26T18:41:32.831Z"
   },
   {
    "duration": 1705,
    "start_time": "2021-12-26T18:41:34.347Z"
   },
   {
    "duration": 1414,
    "start_time": "2021-12-26T18:41:36.055Z"
   },
   {
    "duration": 559,
    "start_time": "2021-12-26T18:41:37.471Z"
   },
   {
    "duration": 334,
    "start_time": "2021-12-26T18:41:38.032Z"
   },
   {
    "duration": 782,
    "start_time": "2021-12-26T18:41:37.586Z"
   },
   {
    "duration": 781,
    "start_time": "2021-12-26T18:41:37.588Z"
   },
   {
    "duration": 780,
    "start_time": "2021-12-26T18:41:37.590Z"
   },
   {
    "duration": 751,
    "start_time": "2021-12-26T18:41:37.620Z"
   },
   {
    "duration": 750,
    "start_time": "2021-12-26T18:41:37.622Z"
   },
   {
    "duration": 749,
    "start_time": "2021-12-26T18:41:37.624Z"
   },
   {
    "duration": 741,
    "start_time": "2021-12-26T18:41:37.633Z"
   },
   {
    "duration": 741,
    "start_time": "2021-12-26T18:41:37.635Z"
   },
   {
    "duration": 1782,
    "start_time": "2021-12-26T18:41:54.542Z"
   },
   {
    "duration": 68,
    "start_time": "2021-12-26T18:41:56.326Z"
   },
   {
    "duration": 63,
    "start_time": "2021-12-26T18:41:56.396Z"
   },
   {
    "duration": 73,
    "start_time": "2021-12-26T18:41:56.461Z"
   },
   {
    "duration": 66,
    "start_time": "2021-12-26T18:41:56.536Z"
   },
   {
    "duration": 50,
    "start_time": "2021-12-26T18:41:56.604Z"
   },
   {
    "duration": 4399,
    "start_time": "2021-12-26T18:41:56.656Z"
   },
   {
    "duration": 5,
    "start_time": "2021-12-26T18:42:01.057Z"
   },
   {
    "duration": 5,
    "start_time": "2021-12-26T18:44:33.369Z"
   },
   {
    "duration": 92081,
    "start_time": "2021-12-26T18:47:16.054Z"
   },
   {
    "duration": 192,
    "start_time": "2021-12-26T18:48:48.137Z"
   },
   {
    "duration": 507,
    "start_time": "2021-12-26T18:50:24.337Z"
   },
   {
    "duration": 197,
    "start_time": "2021-12-26T18:53:45.732Z"
   },
   {
    "duration": 91845,
    "start_time": "2021-12-26T18:55:03.533Z"
   },
   {
    "duration": 5227,
    "start_time": "2021-12-26T19:01:43.402Z"
   },
   {
    "duration": 437,
    "start_time": "2021-12-26T19:01:57.805Z"
   },
   {
    "duration": 5406,
    "start_time": "2021-12-26T19:02:35.312Z"
   },
   {
    "duration": 5188,
    "start_time": "2021-12-26T19:03:48.722Z"
   },
   {
    "duration": 5286,
    "start_time": "2021-12-26T19:04:08.205Z"
   },
   {
    "duration": 3940,
    "start_time": "2021-12-26T19:05:16.926Z"
   },
   {
    "duration": 1159,
    "start_time": "2021-12-26T19:05:39.446Z"
   },
   {
    "duration": 1220,
    "start_time": "2021-12-26T19:06:04.682Z"
   },
   {
    "duration": 4225,
    "start_time": "2021-12-26T19:06:10.963Z"
   },
   {
    "duration": 456,
    "start_time": "2021-12-26T19:06:21.387Z"
   },
   {
    "duration": 5100,
    "start_time": "2021-12-26T19:06:36.155Z"
   },
   {
    "duration": 5375,
    "start_time": "2021-12-26T19:06:53.453Z"
   },
   {
    "duration": 6870,
    "start_time": "2021-12-26T19:07:48.450Z"
   },
   {
    "duration": 3376,
    "start_time": "2021-12-26T19:08:19.171Z"
   },
   {
    "duration": 3589,
    "start_time": "2021-12-26T19:08:39.325Z"
   },
   {
    "duration": 3044,
    "start_time": "2021-12-26T19:08:53.093Z"
   },
   {
    "duration": 2753,
    "start_time": "2021-12-26T19:08:57.679Z"
   },
   {
    "duration": 2871,
    "start_time": "2021-12-26T19:09:29.165Z"
   },
   {
    "duration": 2818,
    "start_time": "2021-12-26T19:09:37.332Z"
   },
   {
    "duration": 1947,
    "start_time": "2021-12-26T19:09:54.189Z"
   },
   {
    "duration": 1420,
    "start_time": "2021-12-26T19:09:58.665Z"
   },
   {
    "duration": 3545,
    "start_time": "2021-12-26T19:11:59.076Z"
   },
   {
    "duration": 3629,
    "start_time": "2021-12-26T19:12:16.146Z"
   },
   {
    "duration": 3947,
    "start_time": "2021-12-26T19:13:05.213Z"
   },
   {
    "duration": 4028,
    "start_time": "2021-12-26T19:13:22.065Z"
   },
   {
    "duration": 2865,
    "start_time": "2021-12-26T19:14:06.624Z"
   },
   {
    "duration": 2524,
    "start_time": "2021-12-26T19:14:11.741Z"
   },
   {
    "duration": 2267,
    "start_time": "2021-12-26T19:17:22.254Z"
   },
   {
    "duration": 1704,
    "start_time": "2021-12-26T19:17:33.621Z"
   },
   {
    "duration": 203,
    "start_time": "2021-12-26T19:21:11.160Z"
   },
   {
    "duration": 207,
    "start_time": "2021-12-26T19:21:37.826Z"
   },
   {
    "duration": 4282,
    "start_time": "2021-12-26T19:22:10.212Z"
   },
   {
    "duration": 9,
    "start_time": "2021-12-26T20:08:35.618Z"
   },
   {
    "duration": 9,
    "start_time": "2021-12-26T20:09:07.553Z"
   },
   {
    "duration": 1541,
    "start_time": "2021-12-26T20:10:02.892Z"
   },
   {
    "duration": 43,
    "start_time": "2021-12-26T20:10:04.435Z"
   },
   {
    "duration": 45,
    "start_time": "2021-12-26T20:10:04.480Z"
   },
   {
    "duration": 43,
    "start_time": "2021-12-26T20:10:04.527Z"
   },
   {
    "duration": 63,
    "start_time": "2021-12-26T20:10:04.572Z"
   },
   {
    "duration": 2228,
    "start_time": "2021-12-26T20:10:04.637Z"
   },
   {
    "duration": 1733,
    "start_time": "2021-12-26T20:10:06.867Z"
   },
   {
    "duration": 1431,
    "start_time": "2021-12-26T20:10:08.602Z"
   },
   {
    "duration": 494,
    "start_time": "2021-12-26T20:10:10.036Z"
   },
   {
    "duration": 9,
    "start_time": "2021-12-26T20:10:10.532Z"
   },
   {
    "duration": 360,
    "start_time": "2021-12-26T20:10:10.542Z"
   },
   {
    "duration": 913,
    "start_time": "2021-12-26T20:10:09.991Z"
   },
   {
    "duration": 910,
    "start_time": "2021-12-26T20:10:09.995Z"
   },
   {
    "duration": 909,
    "start_time": "2021-12-26T20:10:09.997Z"
   },
   {
    "duration": 907,
    "start_time": "2021-12-26T20:10:10.000Z"
   },
   {
    "duration": 904,
    "start_time": "2021-12-26T20:10:10.004Z"
   },
   {
    "duration": 903,
    "start_time": "2021-12-26T20:10:10.006Z"
   },
   {
    "duration": 901,
    "start_time": "2021-12-26T20:10:10.009Z"
   },
   {
    "duration": 900,
    "start_time": "2021-12-26T20:10:10.011Z"
   },
   {
    "duration": 898,
    "start_time": "2021-12-26T20:10:10.014Z"
   },
   {
    "duration": 1489,
    "start_time": "2021-12-26T20:10:41.554Z"
   },
   {
    "duration": 46,
    "start_time": "2021-12-26T20:10:43.045Z"
   },
   {
    "duration": 62,
    "start_time": "2021-12-26T20:10:43.093Z"
   },
   {
    "duration": 70,
    "start_time": "2021-12-26T20:10:43.157Z"
   },
   {
    "duration": 45,
    "start_time": "2021-12-26T20:10:43.228Z"
   },
   {
    "duration": 2244,
    "start_time": "2021-12-26T20:10:43.274Z"
   },
   {
    "duration": 1723,
    "start_time": "2021-12-26T20:10:45.520Z"
   },
   {
    "duration": 1498,
    "start_time": "2021-12-26T20:10:47.245Z"
   },
   {
    "duration": 541,
    "start_time": "2021-12-26T20:10:48.745Z"
   },
   {
    "duration": 9,
    "start_time": "2021-12-26T20:10:49.291Z"
   },
   {
    "duration": 347,
    "start_time": "2021-12-26T20:10:49.302Z"
   },
   {
    "duration": 926,
    "start_time": "2021-12-26T20:10:48.726Z"
   },
   {
    "duration": 922,
    "start_time": "2021-12-26T20:10:48.732Z"
   },
   {
    "duration": 921,
    "start_time": "2021-12-26T20:10:48.734Z"
   },
   {
    "duration": 920,
    "start_time": "2021-12-26T20:10:48.737Z"
   },
   {
    "duration": 919,
    "start_time": "2021-12-26T20:10:48.739Z"
   },
   {
    "duration": 918,
    "start_time": "2021-12-26T20:10:48.741Z"
   },
   {
    "duration": 910,
    "start_time": "2021-12-26T20:10:48.751Z"
   },
   {
    "duration": 907,
    "start_time": "2021-12-26T20:10:48.755Z"
   },
   {
    "duration": 906,
    "start_time": "2021-12-26T20:10:48.758Z"
   },
   {
    "duration": 1543,
    "start_time": "2021-12-26T20:12:03.514Z"
   },
   {
    "duration": 47,
    "start_time": "2021-12-26T20:12:05.059Z"
   },
   {
    "duration": 46,
    "start_time": "2021-12-26T20:12:05.109Z"
   },
   {
    "duration": 68,
    "start_time": "2021-12-26T20:12:05.158Z"
   },
   {
    "duration": 45,
    "start_time": "2021-12-26T20:12:05.228Z"
   },
   {
    "duration": 2282,
    "start_time": "2021-12-26T20:12:05.275Z"
   },
   {
    "duration": 1726,
    "start_time": "2021-12-26T20:12:07.559Z"
   },
   {
    "duration": 1443,
    "start_time": "2021-12-26T20:12:09.287Z"
   },
   {
    "duration": 590,
    "start_time": "2021-12-26T20:12:10.733Z"
   },
   {
    "duration": 8,
    "start_time": "2021-12-26T20:12:11.325Z"
   },
   {
    "duration": 90913,
    "start_time": "2021-12-26T20:12:11.335Z"
   },
   {
    "duration": 1447,
    "start_time": "2021-12-26T20:13:42.250Z"
   },
   {
    "duration": 136,
    "start_time": "2021-12-26T20:13:43.699Z"
   },
   {
    "duration": 74,
    "start_time": "2021-12-26T20:13:43.836Z"
   },
   {
    "duration": 47,
    "start_time": "2021-12-26T20:13:43.912Z"
   },
   {
    "duration": 69,
    "start_time": "2021-12-26T20:13:43.961Z"
   },
   {
    "duration": 60,
    "start_time": "2021-12-26T20:13:44.032Z"
   },
   {
    "duration": 3763,
    "start_time": "2021-12-26T20:13:44.094Z"
   },
   {
    "duration": 2916,
    "start_time": "2021-12-26T20:13:47.858Z"
   },
   {
    "duration": 8,
    "start_time": "2021-12-26T20:13:50.775Z"
   },
   {
    "duration": 1443,
    "start_time": "2021-12-27T14:24:51.215Z"
   },
   {
    "duration": 46,
    "start_time": "2021-12-27T14:24:52.660Z"
   },
   {
    "duration": 47,
    "start_time": "2021-12-27T14:24:52.708Z"
   },
   {
    "duration": 68,
    "start_time": "2021-12-27T14:24:52.757Z"
   },
   {
    "duration": 45,
    "start_time": "2021-12-27T14:24:52.827Z"
   },
   {
    "duration": 2374,
    "start_time": "2021-12-27T14:24:52.873Z"
   },
   {
    "duration": 1732,
    "start_time": "2021-12-27T14:24:55.249Z"
   },
   {
    "duration": 1353,
    "start_time": "2021-12-27T14:24:56.984Z"
   },
   {
    "duration": 553,
    "start_time": "2021-12-27T14:24:58.339Z"
   },
   {
    "duration": 10,
    "start_time": "2021-12-27T14:24:58.894Z"
   },
   {
    "duration": 94138,
    "start_time": "2021-12-27T14:24:58.906Z"
   },
   {
    "duration": 1446,
    "start_time": "2021-12-27T14:26:33.046Z"
   },
   {
    "duration": 51,
    "start_time": "2021-12-27T14:26:34.494Z"
   },
   {
    "duration": 77,
    "start_time": "2021-12-27T14:26:34.547Z"
   },
   {
    "duration": 50,
    "start_time": "2021-12-27T14:26:34.626Z"
   },
   {
    "duration": 50,
    "start_time": "2021-12-27T14:26:34.692Z"
   },
   {
    "duration": 78,
    "start_time": "2021-12-27T14:26:34.744Z"
   },
   {
    "duration": 4010,
    "start_time": "2021-12-27T14:26:34.824Z"
   },
   {
    "duration": 2529,
    "start_time": "2021-12-27T14:26:38.836Z"
   },
   {
    "duration": 5,
    "start_time": "2021-12-27T14:26:41.367Z"
   },
   {
    "duration": 2697,
    "start_time": "2021-12-27T14:56:23.881Z"
   },
   {
    "duration": 2445,
    "start_time": "2021-12-27T14:56:34.553Z"
   },
   {
    "duration": 1579,
    "start_time": "2021-12-27T16:45:25.069Z"
   },
   {
    "duration": 43,
    "start_time": "2021-12-27T16:45:26.650Z"
   },
   {
    "duration": 49,
    "start_time": "2021-12-27T16:45:26.696Z"
   },
   {
    "duration": 67,
    "start_time": "2021-12-27T16:45:26.747Z"
   },
   {
    "duration": 45,
    "start_time": "2021-12-27T16:45:26.816Z"
   },
   {
    "duration": 2464,
    "start_time": "2021-12-27T16:45:26.863Z"
   },
   {
    "duration": 1773,
    "start_time": "2021-12-27T16:45:29.329Z"
   },
   {
    "duration": 1367,
    "start_time": "2021-12-27T16:45:31.105Z"
   },
   {
    "duration": 618,
    "start_time": "2021-12-27T16:45:32.474Z"
   },
   {
    "duration": 16,
    "start_time": "2021-12-27T16:45:33.095Z"
   },
   {
    "duration": 92252,
    "start_time": "2021-12-27T16:45:33.113Z"
   },
   {
    "duration": 1529,
    "start_time": "2021-12-27T16:47:05.367Z"
   },
   {
    "duration": 53,
    "start_time": "2021-12-27T16:47:06.898Z"
   },
   {
    "duration": 76,
    "start_time": "2021-12-27T16:47:06.953Z"
   },
   {
    "duration": 67,
    "start_time": "2021-12-27T16:47:07.031Z"
   },
   {
    "duration": 51,
    "start_time": "2021-12-27T16:47:07.100Z"
   },
   {
    "duration": 82,
    "start_time": "2021-12-27T16:47:07.153Z"
   },
   {
    "duration": 3879,
    "start_time": "2021-12-27T16:47:07.236Z"
   },
   {
    "duration": 2538,
    "start_time": "2021-12-27T16:47:11.117Z"
   },
   {
    "duration": 5,
    "start_time": "2021-12-27T16:47:13.657Z"
   },
   {
    "duration": 52632,
    "start_time": "2021-12-27T19:15:41.938Z"
   },
   {
    "duration": 63,
    "start_time": "2021-12-27T19:16:34.572Z"
   },
   {
    "duration": 43,
    "start_time": "2021-12-27T19:16:34.637Z"
   },
   {
    "duration": 42,
    "start_time": "2021-12-27T19:16:34.682Z"
   },
   {
    "duration": 87,
    "start_time": "2021-12-27T19:16:34.726Z"
   },
   {
    "duration": 3717,
    "start_time": "2021-12-27T19:16:34.816Z"
   },
   {
    "duration": 2681,
    "start_time": "2021-12-27T19:16:38.535Z"
   },
   {
    "duration": 1291,
    "start_time": "2021-12-27T19:16:41.218Z"
   },
   {
    "duration": 598,
    "start_time": "2021-12-27T19:16:42.512Z"
   },
   {
    "duration": 8,
    "start_time": "2021-12-27T19:16:43.112Z"
   },
   {
    "duration": 88317,
    "start_time": "2021-12-27T19:16:43.122Z"
   },
   {
    "duration": 1898,
    "start_time": "2021-12-27T19:18:11.441Z"
   },
   {
    "duration": 253,
    "start_time": "2021-12-27T19:18:13.342Z"
   },
   {
    "duration": 117,
    "start_time": "2021-12-27T19:18:13.598Z"
   },
   {
    "duration": 71,
    "start_time": "2021-12-27T19:18:13.717Z"
   },
   {
    "duration": 78,
    "start_time": "2021-12-27T19:18:13.791Z"
   },
   {
    "duration": 65,
    "start_time": "2021-12-27T19:18:13.871Z"
   },
   {
    "duration": 5122,
    "start_time": "2021-12-27T19:18:13.938Z"
   },
   {
    "duration": 3114,
    "start_time": "2021-12-27T19:18:19.062Z"
   },
   {
    "duration": 6,
    "start_time": "2021-12-27T19:18:22.178Z"
   }
  ],
  "kernelspec": {
   "display_name": "Python 3",
   "language": "python",
   "name": "python3"
  },
  "language_info": {
   "codemirror_mode": {
    "name": "ipython",
    "version": 3
   },
   "file_extension": ".py",
   "mimetype": "text/x-python",
   "name": "python",
   "nbconvert_exporter": "python",
   "pygments_lexer": "ipython3",
   "version": "3.8.8"
  },
  "toc": {
   "base_numbering": 1,
   "nav_menu": {},
   "number_sections": true,
   "sideBar": true,
   "skip_h1_title": true,
   "title_cell": "Table of Contents",
   "title_sidebar": "Contents",
   "toc_cell": false,
   "toc_position": {},
   "toc_section_display": true,
   "toc_window_display": false
  }
 },
 "nbformat": 4,
 "nbformat_minor": 2
}
